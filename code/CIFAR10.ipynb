{
 "cells": [
  {
   "cell_type": "markdown",
   "metadata": {
    "id": "nlWgCsDo5C5k"
   },
   "source": [
    "#CIFAR10 Dataset"
   ]
  },
  {
   "cell_type": "code",
   "execution_count": 1,
   "metadata": {
    "colab": {
     "base_uri": "https://localhost:8080/"
    },
    "execution": {
     "iopub.execute_input": "2024-09-19T13:54:46.903120Z",
     "iopub.status.busy": "2024-09-19T13:54:46.902801Z",
     "iopub.status.idle": "2024-09-19T13:55:05.389076Z",
     "shell.execute_reply": "2024-09-19T13:55:05.387941Z",
     "shell.execute_reply.started": "2024-09-19T13:54:46.903094Z"
    },
    "id": "UwJO5w4X5Bl7",
    "outputId": "d6d19802-3388-4c33-f7b1-df907ef8e06b"
   },
   "outputs": [
    {
     "name": "stdout",
     "output_type": "stream",
     "text": [
      "Requirement already satisfied: fastai in /usr/local/lib/python3.11/dist-packages (2.7.17)\n",
      "Requirement already satisfied: pip in /usr/local/lib/python3.11/dist-packages (from fastai) (23.3.2)\n",
      "Requirement already satisfied: packaging in /usr/local/lib/python3.11/dist-packages (from fastai) (23.2)\n",
      "Requirement already satisfied: fastdownload<2,>=0.0.5 in /usr/local/lib/python3.11/dist-packages (from fastai) (0.0.7)\n",
      "Requirement already satisfied: fastcore<1.8,>=1.5.29 in /usr/local/lib/python3.11/dist-packages (from fastai) (1.7.8)\n",
      "Requirement already satisfied: torchvision>=0.11 in /usr/local/lib/python3.11/dist-packages (from fastai) (0.16.1+cu121)\n",
      "Requirement already satisfied: matplotlib in /usr/local/lib/python3.11/dist-packages (from fastai) (3.7.3)\n",
      "Requirement already satisfied: pandas in /usr/local/lib/python3.11/dist-packages (from fastai) (2.2.0)\n",
      "Requirement already satisfied: requests in /usr/local/lib/python3.11/dist-packages (from fastai) (2.31.0)\n",
      "Requirement already satisfied: pyyaml in /usr/lib/python3/dist-packages (from fastai) (5.4.1)\n",
      "Requirement already satisfied: fastprogress>=0.2.4 in /usr/local/lib/python3.11/dist-packages (from fastai) (1.0.3)\n",
      "Requirement already satisfied: pillow>=9.0.0 in /usr/local/lib/python3.11/dist-packages (from fastai) (9.5.0)\n",
      "Requirement already satisfied: scikit-learn in /usr/local/lib/python3.11/dist-packages (from fastai) (1.3.0)\n",
      "Requirement already satisfied: scipy in /usr/local/lib/python3.11/dist-packages (from fastai) (1.11.2)\n",
      "Requirement already satisfied: spacy<4 in /usr/local/lib/python3.11/dist-packages (from fastai) (3.6.1)\n",
      "Requirement already satisfied: torch<2.5,>=1.10 in /usr/local/lib/python3.11/dist-packages (from fastai) (2.1.1+cu121)\n",
      "Requirement already satisfied: spacy-legacy<3.1.0,>=3.0.11 in /usr/local/lib/python3.11/dist-packages (from spacy<4->fastai) (3.0.12)\n",
      "Requirement already satisfied: spacy-loggers<2.0.0,>=1.0.0 in /usr/local/lib/python3.11/dist-packages (from spacy<4->fastai) (1.0.5)\n",
      "Requirement already satisfied: murmurhash<1.1.0,>=0.28.0 in /usr/local/lib/python3.11/dist-packages (from spacy<4->fastai) (1.0.10)\n",
      "Requirement already satisfied: cymem<2.1.0,>=2.0.2 in /usr/local/lib/python3.11/dist-packages (from spacy<4->fastai) (2.0.8)\n",
      "Requirement already satisfied: preshed<3.1.0,>=3.0.2 in /usr/local/lib/python3.11/dist-packages (from spacy<4->fastai) (3.0.9)\n",
      "Requirement already satisfied: thinc<8.2.0,>=8.1.8 in /usr/local/lib/python3.11/dist-packages (from spacy<4->fastai) (8.1.12)\n",
      "Requirement already satisfied: wasabi<1.2.0,>=0.9.1 in /usr/local/lib/python3.11/dist-packages (from spacy<4->fastai) (1.1.2)\n",
      "Requirement already satisfied: srsly<3.0.0,>=2.4.3 in /usr/local/lib/python3.11/dist-packages (from spacy<4->fastai) (2.4.8)\n",
      "Requirement already satisfied: catalogue<2.1.0,>=2.0.6 in /usr/local/lib/python3.11/dist-packages (from spacy<4->fastai) (2.0.10)\n",
      "Requirement already satisfied: typer<0.10.0,>=0.3.0 in /usr/local/lib/python3.11/dist-packages (from spacy<4->fastai) (0.9.0)\n",
      "Requirement already satisfied: pathy>=0.10.0 in /usr/local/lib/python3.11/dist-packages (from spacy<4->fastai) (0.11.0)\n",
      "Requirement already satisfied: smart-open<7.0.0,>=5.2.1 in /usr/local/lib/python3.11/dist-packages (from spacy<4->fastai) (6.4.0)\n",
      "Requirement already satisfied: tqdm<5.0.0,>=4.38.0 in /usr/local/lib/python3.11/dist-packages (from spacy<4->fastai) (4.66.1)\n",
      "Requirement already satisfied: numpy>=1.15.0 in /usr/local/lib/python3.11/dist-packages (from spacy<4->fastai) (1.26.3)\n",
      "Requirement already satisfied: pydantic!=1.8,!=1.8.1,<3.0.0,>=1.7.4 in /usr/local/lib/python3.11/dist-packages (from spacy<4->fastai) (1.10.14)\n",
      "Requirement already satisfied: jinja2 in /usr/local/lib/python3.11/dist-packages (from spacy<4->fastai) (3.1.3)\n",
      "Requirement already satisfied: setuptools in /usr/local/lib/python3.11/dist-packages (from spacy<4->fastai) (69.0.3)\n",
      "Requirement already satisfied: langcodes<4.0.0,>=3.2.0 in /usr/local/lib/python3.11/dist-packages (from spacy<4->fastai) (3.3.0)\n",
      "Requirement already satisfied: charset-normalizer<4,>=2 in /usr/local/lib/python3.11/dist-packages (from requests->fastai) (3.3.2)\n",
      "Requirement already satisfied: idna<4,>=2.5 in /usr/lib/python3/dist-packages (from requests->fastai) (3.3)\n",
      "Requirement already satisfied: urllib3<3,>=1.21.1 in /usr/local/lib/python3.11/dist-packages (from requests->fastai) (2.0.7)\n",
      "Requirement already satisfied: certifi>=2017.4.17 in /usr/local/lib/python3.11/dist-packages (from requests->fastai) (2024.8.30)\n",
      "Requirement already satisfied: filelock in /usr/local/lib/python3.11/dist-packages (from torch<2.5,>=1.10->fastai) (3.13.1)\n",
      "Requirement already satisfied: typing-extensions in /usr/local/lib/python3.11/dist-packages (from torch<2.5,>=1.10->fastai) (4.9.0)\n",
      "Requirement already satisfied: sympy in /usr/local/lib/python3.11/dist-packages (from torch<2.5,>=1.10->fastai) (1.12)\n",
      "Requirement already satisfied: networkx in /usr/local/lib/python3.11/dist-packages (from torch<2.5,>=1.10->fastai) (3.2.1)\n",
      "Requirement already satisfied: fsspec in /usr/local/lib/python3.11/dist-packages (from torch<2.5,>=1.10->fastai) (2023.6.0)\n",
      "Requirement already satisfied: triton==2.1.0 in /usr/local/lib/python3.11/dist-packages (from torch<2.5,>=1.10->fastai) (2.1.0)\n",
      "Requirement already satisfied: contourpy>=1.0.1 in /usr/local/lib/python3.11/dist-packages (from matplotlib->fastai) (1.2.0)\n",
      "Requirement already satisfied: cycler>=0.10 in /usr/local/lib/python3.11/dist-packages (from matplotlib->fastai) (0.12.1)\n",
      "Requirement already satisfied: fonttools>=4.22.0 in /usr/local/lib/python3.11/dist-packages (from matplotlib->fastai) (4.47.2)\n",
      "Requirement already satisfied: kiwisolver>=1.0.1 in /usr/local/lib/python3.11/dist-packages (from matplotlib->fastai) (1.4.5)\n",
      "Requirement already satisfied: pyparsing>=2.3.1 in /usr/lib/python3/dist-packages (from matplotlib->fastai) (2.4.7)\n",
      "Requirement already satisfied: python-dateutil>=2.7 in /usr/local/lib/python3.11/dist-packages (from matplotlib->fastai) (2.8.2)\n",
      "Requirement already satisfied: pytz>=2020.1 in /usr/lib/python3/dist-packages (from pandas->fastai) (2022.1)\n",
      "Requirement already satisfied: tzdata>=2022.7 in /usr/local/lib/python3.11/dist-packages (from pandas->fastai) (2023.4)\n",
      "Requirement already satisfied: joblib>=1.1.1 in /usr/local/lib/python3.11/dist-packages (from scikit-learn->fastai) (1.3.2)\n",
      "Requirement already satisfied: threadpoolctl>=2.0.0 in /usr/local/lib/python3.11/dist-packages (from scikit-learn->fastai) (3.2.0)\n",
      "Requirement already satisfied: pathlib-abc==0.1.1 in /usr/local/lib/python3.11/dist-packages (from pathy>=0.10.0->spacy<4->fastai) (0.1.1)\n",
      "Requirement already satisfied: six>=1.5 in /usr/lib/python3/dist-packages (from python-dateutil>=2.7->matplotlib->fastai) (1.16.0)\n",
      "Requirement already satisfied: blis<0.8.0,>=0.7.8 in /usr/local/lib/python3.11/dist-packages (from thinc<8.2.0,>=8.1.8->spacy<4->fastai) (0.7.11)\n",
      "Requirement already satisfied: confection<1.0.0,>=0.0.1 in /usr/local/lib/python3.11/dist-packages (from thinc<8.2.0,>=8.1.8->spacy<4->fastai) (0.1.4)\n",
      "Requirement already satisfied: click<9.0.0,>=7.1.1 in /usr/local/lib/python3.11/dist-packages (from typer<0.10.0,>=0.3.0->spacy<4->fastai) (8.1.7)\n",
      "Requirement already satisfied: MarkupSafe>=2.0 in /usr/local/lib/python3.11/dist-packages (from jinja2->spacy<4->fastai) (2.1.4)\n",
      "Requirement already satisfied: mpmath>=0.19 in /usr/local/lib/python3.11/dist-packages (from sympy->torch<2.5,>=1.10->fastai) (1.3.0)\n",
      "\u001b[33mWARNING: Running pip as the 'root' user can result in broken permissions and conflicting behaviour with the system package manager. It is recommended to use a virtual environment instead: https://pip.pypa.io/warnings/venv\u001b[0m\u001b[33m\n",
      "\u001b[0mRequirement already satisfied: nbdev in /usr/local/lib/python3.11/dist-packages (2.3.31)\n",
      "Requirement already satisfied: packaging in /usr/local/lib/python3.11/dist-packages (from nbdev) (23.2)\n",
      "Requirement already satisfied: fastcore>=1.5.27 in /usr/local/lib/python3.11/dist-packages (from nbdev) (1.7.8)\n",
      "Requirement already satisfied: execnb>=0.1.4 in /usr/local/lib/python3.11/dist-packages (from nbdev) (0.1.6)\n",
      "Requirement already satisfied: astunparse in /usr/local/lib/python3.11/dist-packages (from nbdev) (1.6.3)\n",
      "Requirement already satisfied: ghapi>=1.0.3 in /usr/local/lib/python3.11/dist-packages (from nbdev) (1.0.6)\n",
      "Requirement already satisfied: watchdog in /usr/local/lib/python3.11/dist-packages (from nbdev) (5.0.2)\n",
      "Requirement already satisfied: asttokens in /usr/local/lib/python3.11/dist-packages (from nbdev) (2.4.1)\n",
      "Requirement already satisfied: PyYAML in /usr/lib/python3/dist-packages (from nbdev) (5.4.1)\n",
      "Requirement already satisfied: ipython in /usr/local/lib/python3.11/dist-packages (from execnb>=0.1.4->nbdev) (8.20.0)\n",
      "Requirement already satisfied: six>=1.12.0 in /usr/lib/python3/dist-packages (from asttokens->nbdev) (1.16.0)\n",
      "Requirement already satisfied: wheel<1.0,>=0.23.0 in /usr/local/lib/python3.11/dist-packages (from astunparse->nbdev) (0.35.1)\n",
      "Requirement already satisfied: decorator in /usr/local/lib/python3.11/dist-packages (from ipython->execnb>=0.1.4->nbdev) (5.1.1)\n",
      "Requirement already satisfied: jedi>=0.16 in /usr/local/lib/python3.11/dist-packages (from ipython->execnb>=0.1.4->nbdev) (0.19.1)\n",
      "Requirement already satisfied: matplotlib-inline in /usr/local/lib/python3.11/dist-packages (from ipython->execnb>=0.1.4->nbdev) (0.1.6)\n",
      "Requirement already satisfied: prompt-toolkit<3.1.0,>=3.0.41 in /usr/local/lib/python3.11/dist-packages (from ipython->execnb>=0.1.4->nbdev) (3.0.43)\n",
      "Requirement already satisfied: pygments>=2.4.0 in /usr/local/lib/python3.11/dist-packages (from ipython->execnb>=0.1.4->nbdev) (2.17.2)\n",
      "Requirement already satisfied: stack-data in /usr/local/lib/python3.11/dist-packages (from ipython->execnb>=0.1.4->nbdev) (0.6.3)\n",
      "Requirement already satisfied: traitlets>=5 in /usr/local/lib/python3.11/dist-packages (from ipython->execnb>=0.1.4->nbdev) (5.14.1)\n",
      "Requirement already satisfied: pexpect>4.3 in /usr/local/lib/python3.11/dist-packages (from ipython->execnb>=0.1.4->nbdev) (4.9.0)\n",
      "Requirement already satisfied: parso<0.9.0,>=0.8.3 in /usr/local/lib/python3.11/dist-packages (from jedi>=0.16->ipython->execnb>=0.1.4->nbdev) (0.8.3)\n",
      "Requirement already satisfied: ptyprocess>=0.5 in /usr/local/lib/python3.11/dist-packages (from pexpect>4.3->ipython->execnb>=0.1.4->nbdev) (0.7.0)\n",
      "Requirement already satisfied: wcwidth in /usr/local/lib/python3.11/dist-packages (from prompt-toolkit<3.1.0,>=3.0.41->ipython->execnb>=0.1.4->nbdev) (0.2.13)\n",
      "Requirement already satisfied: executing>=1.2.0 in /usr/local/lib/python3.11/dist-packages (from stack-data->ipython->execnb>=0.1.4->nbdev) (2.0.1)\n",
      "Requirement already satisfied: pure-eval in /usr/local/lib/python3.11/dist-packages (from stack-data->ipython->execnb>=0.1.4->nbdev) (0.2.2)\n",
      "\u001b[33mWARNING: Running pip as the 'root' user can result in broken permissions and conflicting behaviour with the system package manager. It is recommended to use a virtual environment instead: https://pip.pypa.io/warnings/venv\u001b[0m\u001b[33m\n",
      "\u001b[0mRequirement already satisfied: ucimlrepo in /usr/local/lib/python3.11/dist-packages (0.0.7)\n",
      "Requirement already satisfied: pandas>=1.0.0 in /usr/local/lib/python3.11/dist-packages (from ucimlrepo) (2.2.0)\n",
      "Requirement already satisfied: certifi>=2020.12.5 in /usr/local/lib/python3.11/dist-packages (from ucimlrepo) (2024.8.30)\n",
      "Requirement already satisfied: numpy<2,>=1.23.2 in /usr/local/lib/python3.11/dist-packages (from pandas>=1.0.0->ucimlrepo) (1.26.3)\n",
      "Requirement already satisfied: python-dateutil>=2.8.2 in /usr/local/lib/python3.11/dist-packages (from pandas>=1.0.0->ucimlrepo) (2.8.2)\n",
      "Requirement already satisfied: pytz>=2020.1 in /usr/lib/python3/dist-packages (from pandas>=1.0.0->ucimlrepo) (2022.1)\n",
      "Requirement already satisfied: tzdata>=2022.7 in /usr/local/lib/python3.11/dist-packages (from pandas>=1.0.0->ucimlrepo) (2023.4)\n",
      "Requirement already satisfied: six>=1.5 in /usr/lib/python3/dist-packages (from python-dateutil>=2.8.2->pandas>=1.0.0->ucimlrepo) (1.16.0)\n",
      "\u001b[33mWARNING: Running pip as the 'root' user can result in broken permissions and conflicting behaviour with the system package manager. It is recommended to use a virtual environment instead: https://pip.pypa.io/warnings/venv\u001b[0m\u001b[33m\n",
      "\u001b[0m"
     ]
    }
   ],
   "source": [
    "#Install dependencies\n",
    "!pip install fastai\n",
    "!pip install nbdev\n",
    "!pip install ucimlrepo\n",
    "\n",
    "#Import libraries\n",
    "import pandas as pd\n",
    "import numpy as np\n",
    "import fastai\n",
    "from fastai.tabular.all import *\n",
    "import torch\n",
    "import torch.nn.functional as F\n",
    "import torch.nn as nn\n",
    "import pickle\n",
    "import copy\n",
    "import time\n",
    "import seaborn as sns\n",
    "from scipy import stats\n",
    "from sklearn.preprocessing import StandardScaler\n",
    "import torchvision.transforms as transforms\n",
    "\n",
    "import torchvision\n",
    "#Connect to drive\n",
    "#from google.colab import drive\n",
    "#drive.mount('/content/drive')\n",
    "\n",
    "\n",
    "\n",
    "#Convert and import personalised library\n",
    "#!jupyter nbconvert --to python /content/drive/MyDrive/Colab\\ Notebooks/utilsTFG.ipynb --output utilsTFG.py\n",
    "#!cp /content/drive/MyDrive/Colab\\ Notebooks/utilsTFG.py .\n",
    "import sys\n",
    "sys.path.append('/notebooks/utilstfg.py')\n",
    "import utilstfg as utilsTFG\n",
    "\n"
   ]
  },
  {
   "cell_type": "code",
   "execution_count": 2,
   "metadata": {
    "colab": {
     "base_uri": "https://localhost:8080/"
    },
    "execution": {
     "iopub.execute_input": "2024-09-19T13:55:11.867481Z",
     "iopub.status.busy": "2024-09-19T13:55:11.866764Z",
     "iopub.status.idle": "2024-09-19T13:55:11.880935Z",
     "shell.execute_reply": "2024-09-19T13:55:11.879714Z",
     "shell.execute_reply.started": "2024-09-19T13:55:11.867444Z"
    },
    "id": "U6arDC3clxEh",
    "outputId": "273d3a51-51ad-4854-e8d1-a8eceeda497b"
   },
   "outputs": [
    {
     "name": "stdout",
     "output_type": "stream",
     "text": [
      "cuda\n"
     ]
    }
   ],
   "source": [
    "device = torch.device('cuda' if torch.cuda.is_available() else 'cpu')\n",
    "print(device)\n",
    "# Set seed for fastai\n",
    "fastai.torch_core.set_seed(42)\n",
    "\n",
    "# Set seed for torch\n",
    "torch.manual_seed(42)\n",
    "if torch.cuda.is_available():\n",
    "  torch.cuda.manual_seed_all(42)\n",
    "\n",
    "# Set seed for numpy\n",
    "np.random.seed(42)"
   ]
  },
  {
   "cell_type": "markdown",
   "metadata": {
    "id": "Y3A_JuZUuznV"
   },
   "source": [
    "### Datos y modelos"
   ]
  },
  {
   "cell_type": "code",
   "execution_count": 3,
   "metadata": {
    "colab": {
     "base_uri": "https://localhost:8080/"
    },
    "execution": {
     "iopub.execute_input": "2024-09-19T13:55:15.791137Z",
     "iopub.status.busy": "2024-09-19T13:55:15.790449Z",
     "iopub.status.idle": "2024-09-19T13:55:22.218749Z",
     "shell.execute_reply": "2024-09-19T13:55:22.217864Z",
     "shell.execute_reply.started": "2024-09-19T13:55:15.791101Z"
    },
    "id": "SSxcXskYTLo5",
    "outputId": "b928a8e5-2bc0-432b-f7e7-4a88e448e3ce"
   },
   "outputs": [
    {
     "name": "stdout",
     "output_type": "stream",
     "text": [
      "Downloading https://www.cs.toronto.edu/~kriz/cifar-10-python.tar.gz to ./data/cifar-10-python.tar.gz\n"
     ]
    },
    {
     "name": "stderr",
     "output_type": "stream",
     "text": [
      "100%|██████████| 170498071/170498071 [00:02<00:00, 79594727.69it/s]\n"
     ]
    },
    {
     "name": "stdout",
     "output_type": "stream",
     "text": [
      "Extracting ./data/cifar-10-python.tar.gz to ./data\n",
      "Files already downloaded and verified\n"
     ]
    }
   ],
   "source": [
    "#Load the MNIST dataset\n",
    "dataset='CIFAR'\n",
    "plot_dataset='CIFAR-10'\n",
    "\n",
    "\n",
    "#Import the MNIST Dataset\n",
    "\n",
    "# Define a transform to normalize the data\n",
    "transform = transforms.Compose([\n",
    "    transforms.ToTensor(),\n",
    "    #transforms.Normalize((0.1307,), (0.3081,)),\n",
    "    transforms.Resize([32,32]),\n",
    "    transforms.Grayscale(num_output_channels=1)\n",
    "])\n",
    "\n",
    "train_dataset = torchvision.datasets.CIFAR10(root='./data', train=True, download=True, transform=transform)\n",
    "test_dataset = torchvision.datasets.CIFAR10(root='./data', train=False, download=True, transform=transform)\n",
    "\n",
    "\n",
    "\n",
    "# Reduce training and test datasets\n",
    "reduced_train_dataset = utilsTFG.reduce_dataset(train_dataset, 10000)\n",
    "reduced_test_dataset = utilsTFG.reduce_dataset(test_dataset, 5000)\n",
    "\n"
   ]
  },
  {
   "cell_type": "code",
   "execution_count": 4,
   "metadata": {
    "colab": {
     "base_uri": "https://localhost:8080/"
    },
    "execution": {
     "iopub.execute_input": "2024-09-19T13:55:22.220822Z",
     "iopub.status.busy": "2024-09-19T13:55:22.220036Z",
     "iopub.status.idle": "2024-09-19T13:55:22.230124Z",
     "shell.execute_reply": "2024-09-19T13:55:22.229454Z",
     "shell.execute_reply.started": "2024-09-19T13:55:22.220787Z"
    },
    "id": "bCwSZCjaVAYn",
    "outputId": "7d353975-a49d-4fab-91f2-f932205d68df"
   },
   "outputs": [
    {
     "name": "stdout",
     "output_type": "stream",
     "text": [
      "Training set class distribution:\n",
      "Class 0: 1000 samples\n",
      "Class 1: 1000 samples\n",
      "Class 2: 1000 samples\n",
      "Class 3: 1000 samples\n",
      "Class 4: 1000 samples\n",
      "Class 5: 1000 samples\n",
      "Class 6: 1000 samples\n",
      "Class 7: 1000 samples\n",
      "Class 8: 1000 samples\n",
      "Class 9: 1000 samples\n",
      "\n",
      "Test set class distribution:\n",
      "Class 0: 500 samples\n",
      "Class 1: 500 samples\n",
      "Class 2: 500 samples\n",
      "Class 3: 500 samples\n",
      "Class 4: 500 samples\n",
      "Class 5: 500 samples\n",
      "Class 6: 500 samples\n",
      "Class 7: 500 samples\n",
      "Class 8: 500 samples\n",
      "Class 9: 500 samples\n"
     ]
    }
   ],
   "source": [
    "\n",
    "print(\"Training set class distribution:\")\n",
    "utilsTFG.verify_class_balance(reduced_train_dataset)\n",
    "\n",
    "print(\"\\nTest set class distribution:\")\n",
    "utilsTFG.verify_class_balance(reduced_test_dataset)"
   ]
  },
  {
   "cell_type": "code",
   "execution_count": 5,
   "metadata": {
    "colab": {
     "base_uri": "https://localhost:8080/"
    },
    "execution": {
     "iopub.execute_input": "2024-09-19T13:55:22.233569Z",
     "iopub.status.busy": "2024-09-19T13:55:22.231090Z",
     "iopub.status.idle": "2024-09-19T13:55:22.249913Z",
     "shell.execute_reply": "2024-09-19T13:55:22.248911Z",
     "shell.execute_reply.started": "2024-09-19T13:55:22.233535Z"
    },
    "id": "7eJWaxGjWEkK",
    "outputId": "df05958d-cca6-4bc1-8236-519a9d624732"
   },
   "outputs": [
    {
     "name": "stdout",
     "output_type": "stream",
     "text": [
      "Training set size: 7000\n",
      "Validation set size: 3000\n",
      "Test set size: 5000\n"
     ]
    }
   ],
   "source": [
    "from torch.utils.data import DataLoader, random_split\n",
    "\n",
    "valid_ratio=0.5\n",
    "# The size of the validation set is the same as the size of the test set\n",
    "validation_size = int(len(reduced_test_dataset)*valid_ratio)\n",
    "\n",
    "\n",
    "\n",
    "\n",
    "train_subset = reduced_train_dataset\n",
    "\n",
    "# Split the test dataset into validation and test subsets\n",
    "validation_subset, test_subset = random_split(reduced_test_dataset, [validation_size,len(reduced_test_dataset)-validation_size])\n",
    "\n",
    "# Define batch size\n",
    "batch_size = 256\n",
    "\n",
    "# Create DataLoader objects\n",
    "train_loader = DataLoader(train_subset, batch_size=batch_size, shuffle=True)\n",
    "validation_loader = DataLoader(validation_subset, batch_size=batch_size, shuffle=False)\n",
    "test_loader = DataLoader(test_subset, batch_size=batch_size, shuffle=False)\n",
    "\n",
    "# Check the size of each DataLoader\n",
    "print(f'Training set size: {len(train_loader.dataset)}')\n",
    "print(f'Validation set size: {len(validation_loader.dataset)}')\n",
    "print(f'Test set size: {len(test_loader.dataset)}')\n"
   ]
  },
  {
   "cell_type": "code",
   "execution_count": 6,
   "metadata": {
    "execution": {
     "iopub.execute_input": "2024-09-19T13:55:22.549574Z",
     "iopub.status.busy": "2024-09-19T13:55:22.549210Z",
     "iopub.status.idle": "2024-09-19T13:55:22.557477Z",
     "shell.execute_reply": "2024-09-19T13:55:22.556102Z",
     "shell.execute_reply.started": "2024-09-19T13:55:22.549545Z"
    },
    "id": "Yvvg7vXK9oaP"
   },
   "outputs": [],
   "source": [
    "dls = DataLoaders.from_dsets(train_subset, validation_subset, bs=batch_size)\n",
    "test_dl = dls.test_dl(reduced_test_dataset)"
   ]
  },
  {
   "cell_type": "code",
   "execution_count": 7,
   "metadata": {
    "colab": {
     "base_uri": "https://localhost:8080/",
     "height": 1000
    },
    "execution": {
     "iopub.execute_input": "2024-09-19T13:55:24.892927Z",
     "iopub.status.busy": "2024-09-19T13:55:24.892277Z",
     "iopub.status.idle": "2024-09-19T13:55:34.506759Z",
     "shell.execute_reply": "2024-09-19T13:55:34.505614Z",
     "shell.execute_reply.started": "2024-09-19T13:55:24.892892Z"
    },
    "id": "RM7nRijOW9Rl",
    "outputId": "b097d77c-74ec-4b98-8a5f-5c15f350884d"
   },
   "outputs": [
    {
     "data": {
      "text/html": [
       "\n",
       "<style>\n",
       "    /* Turns off some styling */\n",
       "    progress {\n",
       "        /* gets rid of default border in Firefox and Opera. */\n",
       "        border: none;\n",
       "        /* Needs to be in here for Safari polyfill so background images work as expected. */\n",
       "        background-size: auto;\n",
       "    }\n",
       "    progress:not([value]), progress:not([value])::-webkit-progress-bar {\n",
       "        background: repeating-linear-gradient(45deg, #7e7e7e, #7e7e7e 10px, #5c5c5c 10px, #5c5c5c 20px);\n",
       "    }\n",
       "    .progress-bar-interrupted, .progress-bar-interrupted::-webkit-progress-bar {\n",
       "        background: #F44336;\n",
       "    }\n",
       "</style>\n"
      ],
      "text/plain": [
       "<IPython.core.display.HTML object>"
      ]
     },
     "metadata": {},
     "output_type": "display_data"
    },
    {
     "data": {
      "text/html": [],
      "text/plain": [
       "<IPython.core.display.HTML object>"
      ]
     },
     "metadata": {},
     "output_type": "display_data"
    },
    {
     "name": "stdout",
     "output_type": "stream",
     "text": [
      "LeNet5 (Input shape: 256 x 1 x 32 x 32)\n",
      "============================================================================\n",
      "Layer (type)         Output Shape         Param #    Trainable \n",
      "============================================================================\n",
      "                     256 x 6 x 28 x 28   \n",
      "Conv2d                                    156        True      \n",
      "BatchNorm2d                               12         True      \n",
      "____________________________________________________________________________\n",
      "                     256 x 16 x 5 x 5    \n",
      "MaxPool2d                                                      \n",
      "____________________________________________________________________________\n",
      "                     256 x 16 x 10 x 10  \n",
      "Conv2d                                    2416       True      \n",
      "BatchNorm2d                               32         True      \n",
      "____________________________________________________________________________\n",
      "                     256 x 120           \n",
      "Linear                                    48120      True      \n",
      "BatchNorm1d                               240        True      \n",
      "____________________________________________________________________________\n",
      "                     256 x 84            \n",
      "Linear                                    10164      True      \n",
      "BatchNorm1d                               168        True      \n",
      "____________________________________________________________________________\n",
      "                     256 x 10            \n",
      "Linear                                    850        True      \n",
      "ReLU                                                           \n",
      "____________________________________________________________________________\n",
      "\n",
      "Total params: 62,158\n",
      "Total trainable params: 62,158\n",
      "Total non-trainable params: 0\n",
      "\n",
      "Optimizer used: <function Adam at 0x7fe65a83a020>\n",
      "Loss function: FlattenedLoss of CrossEntropyLoss()\n",
      "\n",
      "Callbacks:\n",
      "  - TrainEvalCallback\n",
      "  - CastToTensor\n",
      "  - Recorder\n",
      "  - ProgressCallback\n"
     ]
    },
    {
     "data": {
      "text/html": [
       "\n",
       "<style>\n",
       "    /* Turns off some styling */\n",
       "    progress {\n",
       "        /* gets rid of default border in Firefox and Opera. */\n",
       "        border: none;\n",
       "        /* Needs to be in here for Safari polyfill so background images work as expected. */\n",
       "        background-size: auto;\n",
       "    }\n",
       "    progress:not([value]), progress:not([value])::-webkit-progress-bar {\n",
       "        background: repeating-linear-gradient(45deg, #7e7e7e, #7e7e7e 10px, #5c5c5c 10px, #5c5c5c 20px);\n",
       "    }\n",
       "    .progress-bar-interrupted, .progress-bar-interrupted::-webkit-progress-bar {\n",
       "        background: #F44336;\n",
       "    }\n",
       "</style>\n"
      ],
      "text/plain": [
       "<IPython.core.display.HTML object>"
      ]
     },
     "metadata": {},
     "output_type": "display_data"
    },
    {
     "data": {
      "text/html": [],
      "text/plain": [
       "<IPython.core.display.HTML object>"
      ]
     },
     "metadata": {},
     "output_type": "display_data"
    },
    {
     "name": "stdout",
     "output_type": "stream",
     "text": [
      "ResNet15 (Input shape: 256 x 1 x 32 x 32)\n",
      "============================================================================\n",
      "Layer (type)         Output Shape         Param #    Trainable \n",
      "============================================================================\n",
      "                     256 x 64 x 26 x 26  \n",
      "Conv2d                                    3136       True      \n",
      "BatchNorm2d                               128        True      \n",
      "____________________________________________________________________________\n",
      "                     256 x 64 x 13 x 13  \n",
      "MaxPool2d                                                      \n",
      "____________________________________________________________________________\n",
      "                     256 x 16 x 13 x 13  \n",
      "Conv2d                                    1024       True      \n",
      "BatchNorm2d                               32         True      \n",
      "Conv2d                                    2304       True      \n",
      "BatchNorm2d                               32         True      \n",
      "____________________________________________________________________________\n",
      "                     256 x 64 x 13 x 13  \n",
      "Conv2d                                    1024       True      \n",
      "BatchNorm2d                               128        True      \n",
      "ReLU                                                           \n",
      "____________________________________________________________________________\n",
      "                     256 x 32 x 13 x 13  \n",
      "Conv2d                                    2048       True      \n",
      "BatchNorm2d                               64         True      \n",
      "____________________________________________________________________________\n",
      "                     256 x 32 x 7 x 7    \n",
      "Conv2d                                    9216       True      \n",
      "BatchNorm2d                               64         True      \n",
      "____________________________________________________________________________\n",
      "                     256 x 128 x 7 x 7   \n",
      "Conv2d                                    4096       True      \n",
      "BatchNorm2d                               256        True      \n",
      "ReLU                                                           \n",
      "Conv2d                                    8192       True      \n",
      "BatchNorm2d                               256        True      \n",
      "____________________________________________________________________________\n",
      "                     256 x 64 x 7 x 7    \n",
      "Conv2d                                    8192       True      \n",
      "BatchNorm2d                               128        True      \n",
      "____________________________________________________________________________\n",
      "                     256 x 64 x 4 x 4    \n",
      "Conv2d                                    36864      True      \n",
      "BatchNorm2d                               128        True      \n",
      "____________________________________________________________________________\n",
      "                     256 x 256 x 4 x 4   \n",
      "Conv2d                                    16384      True      \n",
      "BatchNorm2d                               512        True      \n",
      "ReLU                                                           \n",
      "Conv2d                                    32768      True      \n",
      "BatchNorm2d                               512        True      \n",
      "____________________________________________________________________________\n",
      "                     256 x 128 x 4 x 4   \n",
      "Conv2d                                    32768      True      \n",
      "BatchNorm2d                               256        True      \n",
      "____________________________________________________________________________\n",
      "                     256 x 128 x 2 x 2   \n",
      "Conv2d                                    147456     True      \n",
      "BatchNorm2d                               256        True      \n",
      "____________________________________________________________________________\n",
      "                     256 x 512 x 2 x 2   \n",
      "Conv2d                                    65536      True      \n",
      "BatchNorm2d                               1024       True      \n",
      "ReLU                                                           \n",
      "Conv2d                                    131072     True      \n",
      "BatchNorm2d                               1024       True      \n",
      "____________________________________________________________________________\n",
      "                     256 x 512 x 1 x 1   \n",
      "AdaptiveAvgPool2d                                              \n",
      "BatchNorm1d                               1024       True      \n",
      "Dropout                                                        \n",
      "____________________________________________________________________________\n",
      "                     256 x 10            \n",
      "Linear                                    5130       True      \n",
      "ReLU                                                           \n",
      "____________________________________________________________________________\n",
      "\n",
      "Total params: 513,034\n",
      "Total trainable params: 513,034\n",
      "Total non-trainable params: 0\n",
      "\n",
      "Optimizer used: <function Adam at 0x7fe65a83a020>\n",
      "Loss function: FlattenedLoss of CrossEntropyLoss()\n",
      "\n",
      "Callbacks:\n",
      "  - TrainEvalCallback\n",
      "  - CastToTensor\n",
      "  - Recorder\n",
      "  - ProgressCallback\n"
     ]
    },
    {
     "data": {
      "text/html": [
       "\n",
       "<style>\n",
       "    /* Turns off some styling */\n",
       "    progress {\n",
       "        /* gets rid of default border in Firefox and Opera. */\n",
       "        border: none;\n",
       "        /* Needs to be in here for Safari polyfill so background images work as expected. */\n",
       "        background-size: auto;\n",
       "    }\n",
       "    progress:not([value]), progress:not([value])::-webkit-progress-bar {\n",
       "        background: repeating-linear-gradient(45deg, #7e7e7e, #7e7e7e 10px, #5c5c5c 10px, #5c5c5c 20px);\n",
       "    }\n",
       "    .progress-bar-interrupted, .progress-bar-interrupted::-webkit-progress-bar {\n",
       "        background: #F44336;\n",
       "    }\n",
       "</style>\n"
      ],
      "text/plain": [
       "<IPython.core.display.HTML object>"
      ]
     },
     "metadata": {},
     "output_type": "display_data"
    },
    {
     "data": {
      "text/html": [],
      "text/plain": [
       "<IPython.core.display.HTML object>"
      ]
     },
     "metadata": {},
     "output_type": "display_data"
    },
    {
     "name": "stdout",
     "output_type": "stream",
     "text": [
      "ResNet57 (Input shape: 256 x 1 x 32 x 32)\n",
      "============================================================================\n",
      "Layer (type)         Output Shape         Param #    Trainable \n",
      "============================================================================\n",
      "                     256 x 64 x 26 x 26  \n",
      "Conv2d                                    3136       True      \n",
      "BatchNorm2d                               128        True      \n",
      "____________________________________________________________________________\n",
      "                     256 x 64 x 13 x 13  \n",
      "MaxPool2d                                                      \n",
      "____________________________________________________________________________\n",
      "                     256 x 16 x 13 x 13  \n",
      "Conv2d                                    1024       True      \n",
      "BatchNorm2d                               32         True      \n",
      "Conv2d                                    2304       True      \n",
      "BatchNorm2d                               32         True      \n",
      "____________________________________________________________________________\n",
      "                     256 x 64 x 13 x 13  \n",
      "Conv2d                                    1024       True      \n",
      "BatchNorm2d                               128        True      \n",
      "ReLU                                                           \n",
      "____________________________________________________________________________\n",
      "                     256 x 16 x 13 x 13  \n",
      "Conv2d                                    1024       True      \n",
      "BatchNorm2d                               32         True      \n",
      "Conv2d                                    2304       True      \n",
      "BatchNorm2d                               32         True      \n",
      "____________________________________________________________________________\n",
      "                     256 x 64 x 13 x 13  \n",
      "Conv2d                                    1024       True      \n",
      "BatchNorm2d                               128        True      \n",
      "ReLU                                                           \n",
      "____________________________________________________________________________\n",
      "                     256 x 16 x 13 x 13  \n",
      "Conv2d                                    1024       True      \n",
      "BatchNorm2d                               32         True      \n",
      "Conv2d                                    2304       True      \n",
      "BatchNorm2d                               32         True      \n",
      "____________________________________________________________________________\n",
      "                     256 x 64 x 13 x 13  \n",
      "Conv2d                                    1024       True      \n",
      "BatchNorm2d                               128        True      \n",
      "ReLU                                                           \n",
      "____________________________________________________________________________\n",
      "                     256 x 32 x 13 x 13  \n",
      "Conv2d                                    2048       True      \n",
      "BatchNorm2d                               64         True      \n",
      "____________________________________________________________________________\n",
      "                     256 x 32 x 7 x 7    \n",
      "Conv2d                                    9216       True      \n",
      "BatchNorm2d                               64         True      \n",
      "____________________________________________________________________________\n",
      "                     256 x 128 x 7 x 7   \n",
      "Conv2d                                    4096       True      \n",
      "BatchNorm2d                               256        True      \n",
      "ReLU                                                           \n",
      "Conv2d                                    8192       True      \n",
      "BatchNorm2d                               256        True      \n",
      "____________________________________________________________________________\n",
      "                     256 x 32 x 7 x 7    \n",
      "Conv2d                                    4096       True      \n",
      "BatchNorm2d                               64         True      \n",
      "Conv2d                                    9216       True      \n",
      "BatchNorm2d                               64         True      \n",
      "____________________________________________________________________________\n",
      "                     256 x 128 x 7 x 7   \n",
      "Conv2d                                    4096       True      \n",
      "BatchNorm2d                               256        True      \n",
      "ReLU                                                           \n",
      "____________________________________________________________________________\n",
      "                     256 x 32 x 7 x 7    \n",
      "Conv2d                                    4096       True      \n",
      "BatchNorm2d                               64         True      \n",
      "Conv2d                                    9216       True      \n",
      "BatchNorm2d                               64         True      \n",
      "____________________________________________________________________________\n",
      "                     256 x 128 x 7 x 7   \n",
      "Conv2d                                    4096       True      \n",
      "BatchNorm2d                               256        True      \n",
      "ReLU                                                           \n",
      "____________________________________________________________________________\n",
      "                     256 x 32 x 7 x 7    \n",
      "Conv2d                                    4096       True      \n",
      "BatchNorm2d                               64         True      \n",
      "Conv2d                                    9216       True      \n",
      "BatchNorm2d                               64         True      \n",
      "____________________________________________________________________________\n",
      "                     256 x 128 x 7 x 7   \n",
      "Conv2d                                    4096       True      \n",
      "BatchNorm2d                               256        True      \n",
      "ReLU                                                           \n",
      "____________________________________________________________________________\n",
      "                     256 x 64 x 7 x 7    \n",
      "Conv2d                                    8192       True      \n",
      "BatchNorm2d                               128        True      \n",
      "____________________________________________________________________________\n",
      "                     256 x 64 x 4 x 4    \n",
      "Conv2d                                    36864      True      \n",
      "BatchNorm2d                               128        True      \n",
      "____________________________________________________________________________\n",
      "                     256 x 256 x 4 x 4   \n",
      "Conv2d                                    16384      True      \n",
      "BatchNorm2d                               512        True      \n",
      "ReLU                                                           \n",
      "Conv2d                                    32768      True      \n",
      "BatchNorm2d                               512        True      \n",
      "____________________________________________________________________________\n",
      "                     256 x 64 x 4 x 4    \n",
      "Conv2d                                    16384      True      \n",
      "BatchNorm2d                               128        True      \n",
      "Conv2d                                    36864      True      \n",
      "BatchNorm2d                               128        True      \n",
      "____________________________________________________________________________\n",
      "                     256 x 256 x 4 x 4   \n",
      "Conv2d                                    16384      True      \n",
      "BatchNorm2d                               512        True      \n",
      "ReLU                                                           \n",
      "____________________________________________________________________________\n",
      "                     256 x 64 x 4 x 4    \n",
      "Conv2d                                    16384      True      \n",
      "BatchNorm2d                               128        True      \n",
      "Conv2d                                    36864      True      \n",
      "BatchNorm2d                               128        True      \n",
      "____________________________________________________________________________\n",
      "                     256 x 256 x 4 x 4   \n",
      "Conv2d                                    16384      True      \n",
      "BatchNorm2d                               512        True      \n",
      "ReLU                                                           \n",
      "____________________________________________________________________________\n",
      "                     256 x 64 x 4 x 4    \n",
      "Conv2d                                    16384      True      \n",
      "BatchNorm2d                               128        True      \n",
      "Conv2d                                    36864      True      \n",
      "BatchNorm2d                               128        True      \n",
      "____________________________________________________________________________\n",
      "                     256 x 256 x 4 x 4   \n",
      "Conv2d                                    16384      True      \n",
      "BatchNorm2d                               512        True      \n",
      "ReLU                                                           \n",
      "____________________________________________________________________________\n",
      "                     256 x 128 x 4 x 4   \n",
      "Conv2d                                    32768      True      \n",
      "BatchNorm2d                               256        True      \n",
      "____________________________________________________________________________\n",
      "                     256 x 128 x 2 x 2   \n",
      "Conv2d                                    147456     True      \n",
      "BatchNorm2d                               256        True      \n",
      "____________________________________________________________________________\n",
      "                     256 x 512 x 2 x 2   \n",
      "Conv2d                                    65536      True      \n",
      "BatchNorm2d                               1024       True      \n",
      "ReLU                                                           \n",
      "Conv2d                                    131072     True      \n",
      "BatchNorm2d                               1024       True      \n",
      "____________________________________________________________________________\n",
      "                     256 x 128 x 2 x 2   \n",
      "Conv2d                                    65536      True      \n",
      "BatchNorm2d                               256        True      \n",
      "Conv2d                                    147456     True      \n",
      "BatchNorm2d                               256        True      \n",
      "____________________________________________________________________________\n",
      "                     256 x 512 x 2 x 2   \n",
      "Conv2d                                    65536      True      \n",
      "BatchNorm2d                               1024       True      \n",
      "ReLU                                                           \n",
      "____________________________________________________________________________\n",
      "                     256 x 128 x 2 x 2   \n",
      "Conv2d                                    65536      True      \n",
      "BatchNorm2d                               256        True      \n",
      "Conv2d                                    147456     True      \n",
      "BatchNorm2d                               256        True      \n",
      "____________________________________________________________________________\n",
      "                     256 x 512 x 2 x 2   \n",
      "Conv2d                                    65536      True      \n",
      "BatchNorm2d                               1024       True      \n",
      "ReLU                                                           \n",
      "____________________________________________________________________________\n",
      "                     256 x 512 x 1 x 1   \n",
      "AdaptiveAvgPool2d                                              \n",
      "BatchNorm1d                               1024       True      \n",
      "Dropout                                                        \n",
      "____________________________________________________________________________\n",
      "                     256 x 10            \n",
      "Linear                                    5130       True      \n",
      "ReLU                                                           \n",
      "____________________________________________________________________________\n",
      "\n",
      "Total params: 1,346,826\n",
      "Total trainable params: 1,346,826\n",
      "Total non-trainable params: 0\n",
      "\n",
      "Optimizer used: <function Adam at 0x7fe65a83a020>\n",
      "Loss function: FlattenedLoss of CrossEntropyLoss()\n",
      "\n",
      "Callbacks:\n",
      "  - TrainEvalCallback\n",
      "  - CastToTensor\n",
      "  - Recorder\n",
      "  - ProgressCallback\n"
     ]
    }
   ],
   "source": [
    "dls = DataLoaders.from_dsets(train_subset, validation_subset, bs=batch_size)\n",
    "test_dl = dls.test_dl(reduced_test_dataset)\n",
    "\n",
    "dls.to(device)\n",
    "test_dl.to(device)\n",
    "\n",
    "models =['LeNet5', 'ResNet15', 'ResNet57']\n",
    "mod = [utilsTFG.LeNet5(), utilsTFG.ResNet15(num_classes=10), utilsTFG.ResNet57(num_classes=10)]\n",
    "optims = ['NAG', 'RMSProp', 'ADAM']\n",
    "algs = ['SHADE', 'SHADE-ILS', 'SHADE-GD', 'SHADE-ILS-GD']\n",
    "metric = ['Acc']\n",
    "\n",
    "init_weights = {}\n",
    "for model, m in zip(models, mod):\n",
    "  learn = Learner(dls, model=copy.deepcopy(m), loss_func=CrossEntropyLossFlat(), metrics=accuracy)\n",
    "  learn.model.apply(utilsTFG.init_weights_glorot)\n",
    "  learn.to(device)\n",
    "  init_weights[model] = utilsTFG.get_params_from_model(learn.model)\n",
    "  print(learn.summary())"
   ]
  },
  {
   "cell_type": "code",
   "execution_count": 10,
   "metadata": {
    "colab": {
     "base_uri": "https://localhost:8080/",
     "height": 705
    },
    "execution": {
     "iopub.execute_input": "2024-09-19T13:55:55.719796Z",
     "iopub.status.busy": "2024-09-19T13:55:55.719284Z",
     "iopub.status.idle": "2024-09-19T13:55:57.036182Z",
     "shell.execute_reply": "2024-09-19T13:55:57.035099Z",
     "shell.execute_reply.started": "2024-09-19T13:55:55.719764Z"
    },
    "id": "4ajhddz8uIQR",
    "outputId": "d755a055-3ddc-48fb-e6f1-6f20ca94b23f"
   },
   "outputs": [
    {
     "data": {
      "image/png": "[encoded data removed]",
      "text/plain": [
       "<Figure size 1500x800 with 10 Axes>"
      ]
     },
     "metadata": {},
     "output_type": "display_data"
    }
   ],
   "source": [
    "# Get a batch of images and labels\n",
    "batch = dls.one_batch()\n",
    "\n",
    "# Number of images to display\n",
    "num_images = 10\n",
    "\n",
    "# Create a figure with a grid of subplots (2 rows and 4 columns)\n",
    "fig, axes = plt.subplots(2, 5, figsize=(15, 8))\n",
    "\n",
    "#Cifar10 classes name\n",
    "class_names = ['airplane', 'automobile', 'bird', 'cat', 'deer', 'dog', 'frog', 'horse', 'ship', 'truck']\n",
    "\n",
    "# Plot each image in the grid\n",
    "for i in range(num_images):\n",
    "    row, col = divmod(i, 5)\n",
    "    ax = axes[row, col]\n",
    "    img = batch[0][i].cpu().squeeze().numpy()\n",
    "    label = class_names[batch[1][i].item()]\n",
    "    ax.imshow(img, cmap='gray')\n",
    "    ax.set_title(label)\n",
    "    ax.axis('off')\n",
    "\n",
    "# Display the plot\n",
    "plt.tight_layout()\n",
    "plt.show()"
   ]
  },
  {
   "cell_type": "markdown",
   "metadata": {
    "id": "aAXMJnW_5Mpe"
   },
   "source": [
    "## Gradient Descent"
   ]
  },
  {
   "cell_type": "code",
   "execution_count": 11,
   "metadata": {
    "execution": {
     "iopub.execute_input": "2024-09-19T13:56:00.095033Z",
     "iopub.status.busy": "2024-09-19T13:56:00.094494Z",
     "iopub.status.idle": "2024-09-19T13:56:00.654900Z",
     "shell.execute_reply": "2024-09-19T13:56:00.653730Z",
     "shell.execute_reply.started": "2024-09-19T13:56:00.094999Z"
    },
    "id": "zQ8UaExBxOtJ"
   },
   "outputs": [],
   "source": [
    "# Define the optimizers\n",
    "NAG = partial(OptimWrapper, opt=torch.optim.SGD, momentum=0.9, nesterov=True)\n",
    "RMSProp = partial(OptimWrapper, opt=torch.optim.RMSprop)\n",
    "ADAM = partial(OptimWrapper, opt=torch.optim.Adam)\n",
    "optims2 = [NAG, RMSProp, ADAM]\n",
    "\n",
    "# Initialize the learners dictionary\n",
    "learners = {}\n",
    "time_gd = {}\n",
    "epochs=20\n",
    "\n",
    "# Iterate over the optimizers and layers to create learners\n",
    "for opt, opt2 in zip(optims, optims2):\n",
    "    learners[opt] = {}  # Initialize the dictionary for this optimizer\n",
    "    time_gd[opt] = {}\n",
    "    for model, m in zip(models,mod):\n",
    "        learners[opt][model] = Learner(dls=dls, model=copy.deepcopy(m), loss_func=CrossEntropyLossFlat(), metrics=accuracy, opt_func=opt2, cbs=[SaveModelCallback()])\n",
    "        learners[opt][model].to(device)\n",
    "        learners[opt][model].model.to(device)\n",
    "        utilsTFG.set_params_to_model(init_weights[model], learners[opt][model].model)\n"
   ]
  },
  {
   "cell_type": "code",
   "execution_count": 12,
   "metadata": {
    "colab": {
     "base_uri": "https://localhost:8080/"
    },
    "execution": {
     "iopub.execute_input": "2024-09-19T13:56:01.881715Z",
     "iopub.status.busy": "2024-09-19T13:56:01.875187Z",
     "iopub.status.idle": "2024-09-19T13:56:01.969385Z",
     "shell.execute_reply": "2024-09-19T13:56:01.968303Z",
     "shell.execute_reply.started": "2024-09-19T13:56:01.881634Z"
    },
    "id": "LPKLUItNTqY6",
    "outputId": "d0fbddc2-fa9c-4979-e9ab-38e66e85b3a5"
   },
   "outputs": [
    {
     "name": "stdout",
     "output_type": "stream",
     "text": [
      "Mismos parámetros con el modelo LeNet5.\n",
      "Mismos parámetros con el modelo ResNet15.\n",
      "Mismos parámetros con el modelo ResNet57.\n"
     ]
    }
   ],
   "source": [
    "#To check if the models have the same initial parameters\n",
    "for model in models:\n",
    "  if utilsTFG.compare_models(learners['NAG'][model], learners['RMSProp'][model]) and utilsTFG.compare_models(learners['NAG'][model], learners['ADAM'][model]) and utilsTFG.compare_models(learners['ADAM'][model], learners['RMSProp'][model]):\n",
    "    print(f\"Mismos parámetros con el modelo {model}.\")\n",
    "  else:\n",
    "    print(\"Distintos parámetros.\")"
   ]
  },
  {
   "cell_type": "markdown",
   "metadata": {
    "id": "Xf4SSlxi5jJn"
   },
   "source": [
    "### Nesterov"
   ]
  },
  {
   "cell_type": "code",
   "execution_count": 13,
   "metadata": {
    "colab": {
     "base_uri": "https://localhost:8080/"
    },
    "execution": {
     "iopub.execute_input": "2024-09-19T13:56:04.646333Z",
     "iopub.status.busy": "2024-09-19T13:56:04.645595Z",
     "iopub.status.idle": "2024-09-19T14:00:28.021449Z",
     "shell.execute_reply": "2024-09-19T14:00:28.019814Z",
     "shell.execute_reply.started": "2024-09-19T13:56:04.646294Z"
    },
    "id": "vwND1SY51Dku",
    "outputId": "8ddfc50b-7ce9-4ab2-8288-afa00419f282"
   },
   "outputs": [
    {
     "data": {
      "text/html": [
       "\n",
       "<style>\n",
       "    /* Turns off some styling */\n",
       "    progress {\n",
       "        /* gets rid of default border in Firefox and Opera. */\n",
       "        border: none;\n",
       "        /* Needs to be in here for Safari polyfill so background images work as expected. */\n",
       "        background-size: auto;\n",
       "    }\n",
       "    progress:not([value]), progress:not([value])::-webkit-progress-bar {\n",
       "        background: repeating-linear-gradient(45deg, #7e7e7e, #7e7e7e 10px, #5c5c5c 10px, #5c5c5c 20px);\n",
       "    }\n",
       "    .progress-bar-interrupted, .progress-bar-interrupted::-webkit-progress-bar {\n",
       "        background: #F44336;\n",
       "    }\n",
       "</style>\n"
      ],
      "text/plain": [
       "<IPython.core.display.HTML object>"
      ]
     },
     "metadata": {},
     "output_type": "display_data"
    },
    {
     "data": {
      "text/html": [],
      "text/plain": [
       "<IPython.core.display.HTML object>"
      ]
     },
     "metadata": {},
     "output_type": "display_data"
    },
    {
     "data": {
      "text/html": [
       "\n",
       "<style>\n",
       "    /* Turns off some styling */\n",
       "    progress {\n",
       "        /* gets rid of default border in Firefox and Opera. */\n",
       "        border: none;\n",
       "        /* Needs to be in here for Safari polyfill so background images work as expected. */\n",
       "        background-size: auto;\n",
       "    }\n",
       "    progress:not([value]), progress:not([value])::-webkit-progress-bar {\n",
       "        background: repeating-linear-gradient(45deg, #7e7e7e, #7e7e7e 10px, #5c5c5c 10px, #5c5c5c 20px);\n",
       "    }\n",
       "    .progress-bar-interrupted, .progress-bar-interrupted::-webkit-progress-bar {\n",
       "        background: #F44336;\n",
       "    }\n",
       "</style>\n"
      ],
      "text/plain": [
       "<IPython.core.display.HTML object>"
      ]
     },
     "metadata": {},
     "output_type": "display_data"
    },
    {
     "data": {
      "text/html": [
       "<table border=\"1\" class=\"dataframe\">\n",
       "  <thead>\n",
       "    <tr style=\"text-align: left;\">\n",
       "      <th>epoch</th>\n",
       "      <th>train_loss</th>\n",
       "      <th>valid_loss</th>\n",
       "      <th>accuracy</th>\n",
       "      <th>time</th>\n",
       "    </tr>\n",
       "  </thead>\n",
       "  <tbody>\n",
       "    <tr>\n",
       "      <td>0</td>\n",
       "      <td>2.557322</td>\n",
       "      <td>2.362046</td>\n",
       "      <td>0.134333</td>\n",
       "      <td>00:03</td>\n",
       "    </tr>\n",
       "    <tr>\n",
       "      <td>1</td>\n",
       "      <td>2.264801</td>\n",
       "      <td>2.031330</td>\n",
       "      <td>0.270667</td>\n",
       "      <td>00:03</td>\n",
       "    </tr>\n",
       "    <tr>\n",
       "      <td>2</td>\n",
       "      <td>2.036842</td>\n",
       "      <td>1.878210</td>\n",
       "      <td>0.332333</td>\n",
       "      <td>00:03</td>\n",
       "    </tr>\n",
       "    <tr>\n",
       "      <td>3</td>\n",
       "      <td>1.868442</td>\n",
       "      <td>1.750524</td>\n",
       "      <td>0.384333</td>\n",
       "      <td>00:03</td>\n",
       "    </tr>\n",
       "    <tr>\n",
       "      <td>4</td>\n",
       "      <td>1.724913</td>\n",
       "      <td>1.781469</td>\n",
       "      <td>0.357000</td>\n",
       "      <td>00:03</td>\n",
       "    </tr>\n",
       "    <tr>\n",
       "      <td>5</td>\n",
       "      <td>1.598880</td>\n",
       "      <td>1.972106</td>\n",
       "      <td>0.328667</td>\n",
       "      <td>00:03</td>\n",
       "    </tr>\n",
       "    <tr>\n",
       "      <td>6</td>\n",
       "      <td>1.496743</td>\n",
       "      <td>2.382446</td>\n",
       "      <td>0.279333</td>\n",
       "      <td>00:03</td>\n",
       "    </tr>\n",
       "    <tr>\n",
       "      <td>7</td>\n",
       "      <td>1.405403</td>\n",
       "      <td>1.826953</td>\n",
       "      <td>0.384667</td>\n",
       "      <td>00:03</td>\n",
       "    </tr>\n",
       "    <tr>\n",
       "      <td>8</td>\n",
       "      <td>1.318948</td>\n",
       "      <td>1.600459</td>\n",
       "      <td>0.426333</td>\n",
       "      <td>00:03</td>\n",
       "    </tr>\n",
       "    <tr>\n",
       "      <td>9</td>\n",
       "      <td>1.240652</td>\n",
       "      <td>1.799691</td>\n",
       "      <td>0.394000</td>\n",
       "      <td>00:03</td>\n",
       "    </tr>\n",
       "    <tr>\n",
       "      <td>10</td>\n",
       "      <td>1.164120</td>\n",
       "      <td>1.916672</td>\n",
       "      <td>0.376667</td>\n",
       "      <td>00:03</td>\n",
       "    </tr>\n",
       "    <tr>\n",
       "      <td>11</td>\n",
       "      <td>1.092290</td>\n",
       "      <td>2.707231</td>\n",
       "      <td>0.289000</td>\n",
       "      <td>00:03</td>\n",
       "    </tr>\n",
       "    <tr>\n",
       "      <td>12</td>\n",
       "      <td>1.027280</td>\n",
       "      <td>1.808895</td>\n",
       "      <td>0.380333</td>\n",
       "      <td>00:03</td>\n",
       "    </tr>\n",
       "    <tr>\n",
       "      <td>13</td>\n",
       "      <td>0.960815</td>\n",
       "      <td>1.558130</td>\n",
       "      <td>0.460000</td>\n",
       "      <td>00:03</td>\n",
       "    </tr>\n",
       "    <tr>\n",
       "      <td>14</td>\n",
       "      <td>0.901587</td>\n",
       "      <td>1.555288</td>\n",
       "      <td>0.454000</td>\n",
       "      <td>00:03</td>\n",
       "    </tr>\n",
       "    <tr>\n",
       "      <td>15</td>\n",
       "      <td>0.847076</td>\n",
       "      <td>1.545901</td>\n",
       "      <td>0.460000</td>\n",
       "      <td>00:03</td>\n",
       "    </tr>\n",
       "    <tr>\n",
       "      <td>16</td>\n",
       "      <td>0.796558</td>\n",
       "      <td>1.612854</td>\n",
       "      <td>0.451667</td>\n",
       "      <td>00:03</td>\n",
       "    </tr>\n",
       "    <tr>\n",
       "      <td>17</td>\n",
       "      <td>0.757993</td>\n",
       "      <td>1.536260</td>\n",
       "      <td>0.471333</td>\n",
       "      <td>00:03</td>\n",
       "    </tr>\n",
       "    <tr>\n",
       "      <td>18</td>\n",
       "      <td>0.729035</td>\n",
       "      <td>1.556663</td>\n",
       "      <td>0.461333</td>\n",
       "      <td>00:03</td>\n",
       "    </tr>\n",
       "    <tr>\n",
       "      <td>19</td>\n",
       "      <td>0.709190</td>\n",
       "      <td>1.539722</td>\n",
       "      <td>0.470333</td>\n",
       "      <td>00:03</td>\n",
       "    </tr>\n",
       "  </tbody>\n",
       "</table>"
      ],
      "text/plain": [
       "<IPython.core.display.HTML object>"
      ]
     },
     "metadata": {},
     "output_type": "display_data"
    },
    {
     "name": "stdout",
     "output_type": "stream",
     "text": [
      "Better model found at epoch 0 with valid_loss value: 2.3620455265045166.\n",
      "Better model found at epoch 1 with valid_loss value: 2.031329870223999.\n",
      "Better model found at epoch 2 with valid_loss value: 1.8782103061676025.\n",
      "Better model found at epoch 3 with valid_loss value: 1.7505239248275757.\n",
      "Better model found at epoch 8 with valid_loss value: 1.6004589796066284.\n",
      "Better model found at epoch 13 with valid_loss value: 1.5581302642822266.\n",
      "Better model found at epoch 14 with valid_loss value: 1.5552877187728882.\n",
      "Better model found at epoch 15 with valid_loss value: 1.5459014177322388.\n",
      "Better model found at epoch 17 with valid_loss value: 1.5362597703933716.\n"
     ]
    },
    {
     "data": {
      "text/html": [
       "\n",
       "<style>\n",
       "    /* Turns off some styling */\n",
       "    progress {\n",
       "        /* gets rid of default border in Firefox and Opera. */\n",
       "        border: none;\n",
       "        /* Needs to be in here for Safari polyfill so background images work as expected. */\n",
       "        background-size: auto;\n",
       "    }\n",
       "    progress:not([value]), progress:not([value])::-webkit-progress-bar {\n",
       "        background: repeating-linear-gradient(45deg, #7e7e7e, #7e7e7e 10px, #5c5c5c 10px, #5c5c5c 20px);\n",
       "    }\n",
       "    .progress-bar-interrupted, .progress-bar-interrupted::-webkit-progress-bar {\n",
       "        background: #F44336;\n",
       "    }\n",
       "</style>\n"
      ],
      "text/plain": [
       "<IPython.core.display.HTML object>"
      ]
     },
     "metadata": {},
     "output_type": "display_data"
    },
    {
     "data": {
      "text/html": [],
      "text/plain": [
       "<IPython.core.display.HTML object>"
      ]
     },
     "metadata": {},
     "output_type": "display_data"
    },
    {
     "data": {
      "text/html": [
       "\n",
       "<style>\n",
       "    /* Turns off some styling */\n",
       "    progress {\n",
       "        /* gets rid of default border in Firefox and Opera. */\n",
       "        border: none;\n",
       "        /* Needs to be in here for Safari polyfill so background images work as expected. */\n",
       "        background-size: auto;\n",
       "    }\n",
       "    progress:not([value]), progress:not([value])::-webkit-progress-bar {\n",
       "        background: repeating-linear-gradient(45deg, #7e7e7e, #7e7e7e 10px, #5c5c5c 10px, #5c5c5c 20px);\n",
       "    }\n",
       "    .progress-bar-interrupted, .progress-bar-interrupted::-webkit-progress-bar {\n",
       "        background: #F44336;\n",
       "    }\n",
       "</style>\n"
      ],
      "text/plain": [
       "<IPython.core.display.HTML object>"
      ]
     },
     "metadata": {},
     "output_type": "display_data"
    },
    {
     "data": {
      "text/html": [
       "<table border=\"1\" class=\"dataframe\">\n",
       "  <thead>\n",
       "    <tr style=\"text-align: left;\">\n",
       "      <th>epoch</th>\n",
       "      <th>train_loss</th>\n",
       "      <th>valid_loss</th>\n",
       "      <th>accuracy</th>\n",
       "      <th>time</th>\n",
       "    </tr>\n",
       "  </thead>\n",
       "  <tbody>\n",
       "    <tr>\n",
       "      <td>0</td>\n",
       "      <td>3.411765</td>\n",
       "      <td>2.592582</td>\n",
       "      <td>0.108333</td>\n",
       "      <td>00:03</td>\n",
       "    </tr>\n",
       "    <tr>\n",
       "      <td>1</td>\n",
       "      <td>3.168125</td>\n",
       "      <td>2.619870</td>\n",
       "      <td>0.171667</td>\n",
       "      <td>00:03</td>\n",
       "    </tr>\n",
       "    <tr>\n",
       "      <td>2</td>\n",
       "      <td>2.929590</td>\n",
       "      <td>2.237064</td>\n",
       "      <td>0.234667</td>\n",
       "      <td>00:03</td>\n",
       "    </tr>\n",
       "    <tr>\n",
       "      <td>3</td>\n",
       "      <td>2.698915</td>\n",
       "      <td>1.996702</td>\n",
       "      <td>0.290333</td>\n",
       "      <td>00:03</td>\n",
       "    </tr>\n",
       "    <tr>\n",
       "      <td>4</td>\n",
       "      <td>2.486546</td>\n",
       "      <td>2.017437</td>\n",
       "      <td>0.297000</td>\n",
       "      <td>00:03</td>\n",
       "    </tr>\n",
       "    <tr>\n",
       "      <td>5</td>\n",
       "      <td>2.307305</td>\n",
       "      <td>1.948782</td>\n",
       "      <td>0.321333</td>\n",
       "      <td>00:03</td>\n",
       "    </tr>\n",
       "    <tr>\n",
       "      <td>6</td>\n",
       "      <td>2.152829</td>\n",
       "      <td>1.951624</td>\n",
       "      <td>0.345000</td>\n",
       "      <td>00:03</td>\n",
       "    </tr>\n",
       "    <tr>\n",
       "      <td>7</td>\n",
       "      <td>2.016503</td>\n",
       "      <td>1.875805</td>\n",
       "      <td>0.357667</td>\n",
       "      <td>00:03</td>\n",
       "    </tr>\n",
       "    <tr>\n",
       "      <td>8</td>\n",
       "      <td>1.909050</td>\n",
       "      <td>1.887344</td>\n",
       "      <td>0.360333</td>\n",
       "      <td>00:03</td>\n",
       "    </tr>\n",
       "    <tr>\n",
       "      <td>9</td>\n",
       "      <td>1.811878</td>\n",
       "      <td>1.926664</td>\n",
       "      <td>0.366333</td>\n",
       "      <td>00:03</td>\n",
       "    </tr>\n",
       "    <tr>\n",
       "      <td>10</td>\n",
       "      <td>1.724572</td>\n",
       "      <td>1.887642</td>\n",
       "      <td>0.366333</td>\n",
       "      <td>00:03</td>\n",
       "    </tr>\n",
       "    <tr>\n",
       "      <td>11</td>\n",
       "      <td>1.644295</td>\n",
       "      <td>1.799366</td>\n",
       "      <td>0.394667</td>\n",
       "      <td>00:03</td>\n",
       "    </tr>\n",
       "    <tr>\n",
       "      <td>12</td>\n",
       "      <td>1.575381</td>\n",
       "      <td>1.869158</td>\n",
       "      <td>0.390667</td>\n",
       "      <td>00:03</td>\n",
       "    </tr>\n",
       "    <tr>\n",
       "      <td>13</td>\n",
       "      <td>1.485647</td>\n",
       "      <td>1.773438</td>\n",
       "      <td>0.408000</td>\n",
       "      <td>00:03</td>\n",
       "    </tr>\n",
       "    <tr>\n",
       "      <td>14</td>\n",
       "      <td>1.427150</td>\n",
       "      <td>1.898419</td>\n",
       "      <td>0.361000</td>\n",
       "      <td>00:03</td>\n",
       "    </tr>\n",
       "    <tr>\n",
       "      <td>15</td>\n",
       "      <td>1.362510</td>\n",
       "      <td>1.773903</td>\n",
       "      <td>0.409333</td>\n",
       "      <td>00:03</td>\n",
       "    </tr>\n",
       "    <tr>\n",
       "      <td>16</td>\n",
       "      <td>1.310107</td>\n",
       "      <td>1.777216</td>\n",
       "      <td>0.406000</td>\n",
       "      <td>00:03</td>\n",
       "    </tr>\n",
       "    <tr>\n",
       "      <td>17</td>\n",
       "      <td>1.267870</td>\n",
       "      <td>1.765514</td>\n",
       "      <td>0.411000</td>\n",
       "      <td>00:04</td>\n",
       "    </tr>\n",
       "    <tr>\n",
       "      <td>18</td>\n",
       "      <td>1.231872</td>\n",
       "      <td>1.766636</td>\n",
       "      <td>0.413333</td>\n",
       "      <td>00:03</td>\n",
       "    </tr>\n",
       "    <tr>\n",
       "      <td>19</td>\n",
       "      <td>1.209052</td>\n",
       "      <td>1.758540</td>\n",
       "      <td>0.414333</td>\n",
       "      <td>00:03</td>\n",
       "    </tr>\n",
       "  </tbody>\n",
       "</table>"
      ],
      "text/plain": [
       "<IPython.core.display.HTML object>"
      ]
     },
     "metadata": {},
     "output_type": "display_data"
    },
    {
     "name": "stdout",
     "output_type": "stream",
     "text": [
      "Better model found at epoch 0 with valid_loss value: 2.5925819873809814.\n",
      "Better model found at epoch 2 with valid_loss value: 2.2370641231536865.\n",
      "Better model found at epoch 3 with valid_loss value: 1.9967018365859985.\n",
      "Better model found at epoch 5 with valid_loss value: 1.948782205581665.\n",
      "Better model found at epoch 7 with valid_loss value: 1.875805139541626.\n",
      "Better model found at epoch 11 with valid_loss value: 1.7993662357330322.\n",
      "Better model found at epoch 13 with valid_loss value: 1.7734384536743164.\n",
      "Better model found at epoch 17 with valid_loss value: 1.76551353931427.\n",
      "Better model found at epoch 19 with valid_loss value: 1.758540391921997.\n"
     ]
    },
    {
     "data": {
      "text/html": [
       "\n",
       "<style>\n",
       "    /* Turns off some styling */\n",
       "    progress {\n",
       "        /* gets rid of default border in Firefox and Opera. */\n",
       "        border: none;\n",
       "        /* Needs to be in here for Safari polyfill so background images work as expected. */\n",
       "        background-size: auto;\n",
       "    }\n",
       "    progress:not([value]), progress:not([value])::-webkit-progress-bar {\n",
       "        background: repeating-linear-gradient(45deg, #7e7e7e, #7e7e7e 10px, #5c5c5c 10px, #5c5c5c 20px);\n",
       "    }\n",
       "    .progress-bar-interrupted, .progress-bar-interrupted::-webkit-progress-bar {\n",
       "        background: #F44336;\n",
       "    }\n",
       "</style>\n"
      ],
      "text/plain": [
       "<IPython.core.display.HTML object>"
      ]
     },
     "metadata": {},
     "output_type": "display_data"
    },
    {
     "data": {
      "text/html": [],
      "text/plain": [
       "<IPython.core.display.HTML object>"
      ]
     },
     "metadata": {},
     "output_type": "display_data"
    },
    {
     "data": {
      "text/html": [
       "\n",
       "<style>\n",
       "    /* Turns off some styling */\n",
       "    progress {\n",
       "        /* gets rid of default border in Firefox and Opera. */\n",
       "        border: none;\n",
       "        /* Needs to be in here for Safari polyfill so background images work as expected. */\n",
       "        background-size: auto;\n",
       "    }\n",
       "    progress:not([value]), progress:not([value])::-webkit-progress-bar {\n",
       "        background: repeating-linear-gradient(45deg, #7e7e7e, #7e7e7e 10px, #5c5c5c 10px, #5c5c5c 20px);\n",
       "    }\n",
       "    .progress-bar-interrupted, .progress-bar-interrupted::-webkit-progress-bar {\n",
       "        background: #F44336;\n",
       "    }\n",
       "</style>\n"
      ],
      "text/plain": [
       "<IPython.core.display.HTML object>"
      ]
     },
     "metadata": {},
     "output_type": "display_data"
    },
    {
     "data": {
      "text/html": [
       "<table border=\"1\" class=\"dataframe\">\n",
       "  <thead>\n",
       "    <tr style=\"text-align: left;\">\n",
       "      <th>epoch</th>\n",
       "      <th>train_loss</th>\n",
       "      <th>valid_loss</th>\n",
       "      <th>accuracy</th>\n",
       "      <th>time</th>\n",
       "    </tr>\n",
       "  </thead>\n",
       "  <tbody>\n",
       "    <tr>\n",
       "      <td>0</td>\n",
       "      <td>3.482230</td>\n",
       "      <td>2.592250</td>\n",
       "      <td>0.100333</td>\n",
       "      <td>00:04</td>\n",
       "    </tr>\n",
       "    <tr>\n",
       "      <td>1</td>\n",
       "      <td>3.278320</td>\n",
       "      <td>2.838319</td>\n",
       "      <td>0.127333</td>\n",
       "      <td>00:04</td>\n",
       "    </tr>\n",
       "    <tr>\n",
       "      <td>2</td>\n",
       "      <td>3.066784</td>\n",
       "      <td>2.626659</td>\n",
       "      <td>0.140000</td>\n",
       "      <td>00:04</td>\n",
       "    </tr>\n",
       "    <tr>\n",
       "      <td>3</td>\n",
       "      <td>2.860298</td>\n",
       "      <td>2.462223</td>\n",
       "      <td>0.153000</td>\n",
       "      <td>00:04</td>\n",
       "    </tr>\n",
       "    <tr>\n",
       "      <td>4</td>\n",
       "      <td>2.747940</td>\n",
       "      <td>2.360227</td>\n",
       "      <td>0.171333</td>\n",
       "      <td>00:04</td>\n",
       "    </tr>\n",
       "    <tr>\n",
       "      <td>5</td>\n",
       "      <td>2.644423</td>\n",
       "      <td>2.274129</td>\n",
       "      <td>0.181333</td>\n",
       "      <td>00:04</td>\n",
       "    </tr>\n",
       "    <tr>\n",
       "      <td>6</td>\n",
       "      <td>2.547073</td>\n",
       "      <td>2.260707</td>\n",
       "      <td>0.199000</td>\n",
       "      <td>00:04</td>\n",
       "    </tr>\n",
       "    <tr>\n",
       "      <td>7</td>\n",
       "      <td>2.489381</td>\n",
       "      <td>2.280104</td>\n",
       "      <td>0.202333</td>\n",
       "      <td>00:04</td>\n",
       "    </tr>\n",
       "    <tr>\n",
       "      <td>8</td>\n",
       "      <td>2.448851</td>\n",
       "      <td>2.243684</td>\n",
       "      <td>0.216333</td>\n",
       "      <td>00:04</td>\n",
       "    </tr>\n",
       "    <tr>\n",
       "      <td>9</td>\n",
       "      <td>2.400015</td>\n",
       "      <td>2.235524</td>\n",
       "      <td>0.219667</td>\n",
       "      <td>00:04</td>\n",
       "    </tr>\n",
       "    <tr>\n",
       "      <td>10</td>\n",
       "      <td>2.365782</td>\n",
       "      <td>2.195857</td>\n",
       "      <td>0.226000</td>\n",
       "      <td>00:04</td>\n",
       "    </tr>\n",
       "    <tr>\n",
       "      <td>11</td>\n",
       "      <td>2.319902</td>\n",
       "      <td>2.154884</td>\n",
       "      <td>0.246000</td>\n",
       "      <td>00:04</td>\n",
       "    </tr>\n",
       "    <tr>\n",
       "      <td>12</td>\n",
       "      <td>2.289123</td>\n",
       "      <td>2.118663</td>\n",
       "      <td>0.247333</td>\n",
       "      <td>00:04</td>\n",
       "    </tr>\n",
       "    <tr>\n",
       "      <td>13</td>\n",
       "      <td>2.248526</td>\n",
       "      <td>2.145284</td>\n",
       "      <td>0.244333</td>\n",
       "      <td>00:04</td>\n",
       "    </tr>\n",
       "    <tr>\n",
       "      <td>14</td>\n",
       "      <td>2.219924</td>\n",
       "      <td>2.122517</td>\n",
       "      <td>0.258667</td>\n",
       "      <td>00:04</td>\n",
       "    </tr>\n",
       "    <tr>\n",
       "      <td>15</td>\n",
       "      <td>2.192635</td>\n",
       "      <td>2.134524</td>\n",
       "      <td>0.264667</td>\n",
       "      <td>00:03</td>\n",
       "    </tr>\n",
       "    <tr>\n",
       "      <td>16</td>\n",
       "      <td>2.162308</td>\n",
       "      <td>2.107025</td>\n",
       "      <td>0.265333</td>\n",
       "      <td>00:04</td>\n",
       "    </tr>\n",
       "    <tr>\n",
       "      <td>17</td>\n",
       "      <td>2.141644</td>\n",
       "      <td>2.112403</td>\n",
       "      <td>0.267333</td>\n",
       "      <td>00:04</td>\n",
       "    </tr>\n",
       "    <tr>\n",
       "      <td>18</td>\n",
       "      <td>2.130107</td>\n",
       "      <td>2.113200</td>\n",
       "      <td>0.272667</td>\n",
       "      <td>00:04</td>\n",
       "    </tr>\n",
       "    <tr>\n",
       "      <td>19</td>\n",
       "      <td>2.126588</td>\n",
       "      <td>2.104717</td>\n",
       "      <td>0.270000</td>\n",
       "      <td>00:04</td>\n",
       "    </tr>\n",
       "  </tbody>\n",
       "</table>"
      ],
      "text/plain": [
       "<IPython.core.display.HTML object>"
      ]
     },
     "metadata": {},
     "output_type": "display_data"
    },
    {
     "name": "stdout",
     "output_type": "stream",
     "text": [
      "Better model found at epoch 0 with valid_loss value: 2.592249631881714.\n",
      "Better model found at epoch 3 with valid_loss value: 2.4622230529785156.\n",
      "Better model found at epoch 4 with valid_loss value: 2.360227108001709.\n",
      "Better model found at epoch 5 with valid_loss value: 2.2741286754608154.\n",
      "Better model found at epoch 6 with valid_loss value: 2.260707139968872.\n",
      "Better model found at epoch 8 with valid_loss value: 2.2436838150024414.\n",
      "Better model found at epoch 9 with valid_loss value: 2.2355241775512695.\n",
      "Better model found at epoch 10 with valid_loss value: 2.195857048034668.\n",
      "Better model found at epoch 11 with valid_loss value: 2.154883623123169.\n",
      "Better model found at epoch 12 with valid_loss value: 2.1186628341674805.\n",
      "Better model found at epoch 16 with valid_loss value: 2.107025384902954.\n",
      "Better model found at epoch 19 with valid_loss value: 2.1047165393829346.\n"
     ]
    },
    {
     "data": {
      "image/png": "[encoded data removed]",
      "text/plain": [
       "<Figure size 640x480 with 1 Axes>"
      ]
     },
     "metadata": {},
     "output_type": "display_data"
    },
    {
     "data": {
      "image/png": "[encoded data removed]",
      "text/plain": [
       "<Figure size 640x480 with 1 Axes>"
      ]
     },
     "metadata": {},
     "output_type": "display_data"
    },
    {
     "data": {
      "image/png": "[encoded data removed]",
      "text/plain": [
       "<Figure size 640x480 with 1 Axes>"
      ]
     },
     "metadata": {},
     "output_type": "display_data"
    }
   ],
   "source": [
    "#Run the training and measure the time for each layer\n",
    "for model, learner in learners['NAG'].items():\n",
    "  lr=learner.lr_find()\n",
    "  start = time.perf_counter()\n",
    "  learner.fit_one_cycle(epochs, lr)\n",
    "  end = time.perf_counter()\n",
    "  time_gd['NAG'][model] = end-start\n",
    "\n"
   ]
  },
  {
   "cell_type": "code",
   "execution_count": 14,
   "metadata": {
    "colab": {
     "base_uri": "https://localhost:8080/"
    },
    "execution": {
     "iopub.execute_input": "2024-09-19T14:00:28.024625Z",
     "iopub.status.busy": "2024-09-19T14:00:28.023763Z",
     "iopub.status.idle": "2024-09-19T14:00:28.336325Z",
     "shell.execute_reply": "2024-09-19T14:00:28.334990Z",
     "shell.execute_reply.started": "2024-09-19T14:00:28.024579Z"
    },
    "id": "eU7WXrz65YsN",
    "outputId": "58162cdd-3c57-4c06-dc0c-d65acb725c7a"
   },
   "outputs": [
    {
     "data": {
      "image/png": "[encoded data removed]",
      "text/plain": [
       "<Figure size 1500x900 with 1 Axes>"
      ]
     },
     "metadata": {},
     "output_type": "display_data"
    }
   ],
   "source": [
    "#Plot the grafic for all layers combined\n",
    "utilsTFG.plot_learners_training(learners['NAG'].values(), title=f'{plot_dataset} WITH NAG OPTIMIZER', names=models, metric=metric)"
   ]
  },
  {
   "cell_type": "markdown",
   "metadata": {
    "id": "P9XuoiwK5lnb"
   },
   "source": [
    "### RMSProp"
   ]
  },
  {
   "cell_type": "code",
   "execution_count": 15,
   "metadata": {
    "colab": {
     "base_uri": "https://localhost:8080/"
    },
    "execution": {
     "iopub.execute_input": "2024-09-19T14:00:28.338940Z",
     "iopub.status.busy": "2024-09-19T14:00:28.338512Z",
     "iopub.status.idle": "2024-09-19T14:02:54.464560Z",
     "shell.execute_reply": "2024-09-19T14:02:54.460802Z",
     "shell.execute_reply.started": "2024-09-19T14:00:28.338899Z"
    },
    "id": "BmMwFUjDCfDF",
    "outputId": "47db52a2-9dfa-4f97-ce71-ef59f9acf568"
   },
   "outputs": [
    {
     "data": {
      "text/html": [
       "\n",
       "<style>\n",
       "    /* Turns off some styling */\n",
       "    progress {\n",
       "        /* gets rid of default border in Firefox and Opera. */\n",
       "        border: none;\n",
       "        /* Needs to be in here for Safari polyfill so background images work as expected. */\n",
       "        background-size: auto;\n",
       "    }\n",
       "    progress:not([value]), progress:not([value])::-webkit-progress-bar {\n",
       "        background: repeating-linear-gradient(45deg, #7e7e7e, #7e7e7e 10px, #5c5c5c 10px, #5c5c5c 20px);\n",
       "    }\n",
       "    .progress-bar-interrupted, .progress-bar-interrupted::-webkit-progress-bar {\n",
       "        background: #F44336;\n",
       "    }\n",
       "</style>\n"
      ],
      "text/plain": [
       "<IPython.core.display.HTML object>"
      ]
     },
     "metadata": {},
     "output_type": "display_data"
    },
    {
     "data": {
      "text/html": [],
      "text/plain": [
       "<IPython.core.display.HTML object>"
      ]
     },
     "metadata": {},
     "output_type": "display_data"
    },
    {
     "data": {
      "text/html": [
       "\n",
       "<style>\n",
       "    /* Turns off some styling */\n",
       "    progress {\n",
       "        /* gets rid of default border in Firefox and Opera. */\n",
       "        border: none;\n",
       "        /* Needs to be in here for Safari polyfill so background images work as expected. */\n",
       "        background-size: auto;\n",
       "    }\n",
       "    progress:not([value]), progress:not([value])::-webkit-progress-bar {\n",
       "        background: repeating-linear-gradient(45deg, #7e7e7e, #7e7e7e 10px, #5c5c5c 10px, #5c5c5c 20px);\n",
       "    }\n",
       "    .progress-bar-interrupted, .progress-bar-interrupted::-webkit-progress-bar {\n",
       "        background: #F44336;\n",
       "    }\n",
       "</style>\n"
      ],
      "text/plain": [
       "<IPython.core.display.HTML object>"
      ]
     },
     "metadata": {},
     "output_type": "display_data"
    },
    {
     "data": {
      "text/html": [
       "<table border=\"1\" class=\"dataframe\">\n",
       "  <thead>\n",
       "    <tr style=\"text-align: left;\">\n",
       "      <th>epoch</th>\n",
       "      <th>train_loss</th>\n",
       "      <th>valid_loss</th>\n",
       "      <th>accuracy</th>\n",
       "      <th>time</th>\n",
       "    </tr>\n",
       "  </thead>\n",
       "  <tbody>\n",
       "    <tr>\n",
       "      <td>0</td>\n",
       "      <td>1.998809</td>\n",
       "      <td>3.059847</td>\n",
       "      <td>0.206000</td>\n",
       "      <td>00:03</td>\n",
       "    </tr>\n",
       "    <tr>\n",
       "      <td>1</td>\n",
       "      <td>1.784547</td>\n",
       "      <td>3.054778</td>\n",
       "      <td>0.263667</td>\n",
       "      <td>00:03</td>\n",
       "    </tr>\n",
       "    <tr>\n",
       "      <td>2</td>\n",
       "      <td>1.624987</td>\n",
       "      <td>1.774495</td>\n",
       "      <td>0.400667</td>\n",
       "      <td>00:03</td>\n",
       "    </tr>\n",
       "    <tr>\n",
       "      <td>3</td>\n",
       "      <td>1.497230</td>\n",
       "      <td>2.357738</td>\n",
       "      <td>0.313000</td>\n",
       "      <td>00:03</td>\n",
       "    </tr>\n",
       "    <tr>\n",
       "      <td>4</td>\n",
       "      <td>1.389248</td>\n",
       "      <td>2.024683</td>\n",
       "      <td>0.358667</td>\n",
       "      <td>00:03</td>\n",
       "    </tr>\n",
       "    <tr>\n",
       "      <td>5</td>\n",
       "      <td>1.282429</td>\n",
       "      <td>2.333764</td>\n",
       "      <td>0.348667</td>\n",
       "      <td>00:03</td>\n",
       "    </tr>\n",
       "    <tr>\n",
       "      <td>6</td>\n",
       "      <td>1.154989</td>\n",
       "      <td>2.103076</td>\n",
       "      <td>0.410333</td>\n",
       "      <td>00:03</td>\n",
       "    </tr>\n",
       "    <tr>\n",
       "      <td>7</td>\n",
       "      <td>1.035190</td>\n",
       "      <td>2.984694</td>\n",
       "      <td>0.329000</td>\n",
       "      <td>00:03</td>\n",
       "    </tr>\n",
       "    <tr>\n",
       "      <td>8</td>\n",
       "      <td>0.919151</td>\n",
       "      <td>2.208249</td>\n",
       "      <td>0.451000</td>\n",
       "      <td>00:02</td>\n",
       "    </tr>\n",
       "    <tr>\n",
       "      <td>9</td>\n",
       "      <td>0.788342</td>\n",
       "      <td>2.161386</td>\n",
       "      <td>0.468667</td>\n",
       "      <td>00:02</td>\n",
       "    </tr>\n",
       "    <tr>\n",
       "      <td>10</td>\n",
       "      <td>0.668184</td>\n",
       "      <td>2.654288</td>\n",
       "      <td>0.406333</td>\n",
       "      <td>00:02</td>\n",
       "    </tr>\n",
       "    <tr>\n",
       "      <td>11</td>\n",
       "      <td>0.561706</td>\n",
       "      <td>2.730516</td>\n",
       "      <td>0.401333</td>\n",
       "      <td>00:02</td>\n",
       "    </tr>\n",
       "    <tr>\n",
       "      <td>12</td>\n",
       "      <td>0.454666</td>\n",
       "      <td>2.981704</td>\n",
       "      <td>0.430667</td>\n",
       "      <td>00:02</td>\n",
       "    </tr>\n",
       "    <tr>\n",
       "      <td>13</td>\n",
       "      <td>0.354773</td>\n",
       "      <td>3.051358</td>\n",
       "      <td>0.423000</td>\n",
       "      <td>00:02</td>\n",
       "    </tr>\n",
       "    <tr>\n",
       "      <td>14</td>\n",
       "      <td>0.263518</td>\n",
       "      <td>2.955021</td>\n",
       "      <td>0.481667</td>\n",
       "      <td>00:02</td>\n",
       "    </tr>\n",
       "    <tr>\n",
       "      <td>15</td>\n",
       "      <td>0.184782</td>\n",
       "      <td>3.086050</td>\n",
       "      <td>0.487333</td>\n",
       "      <td>00:02</td>\n",
       "    </tr>\n",
       "    <tr>\n",
       "      <td>16</td>\n",
       "      <td>0.121842</td>\n",
       "      <td>3.141675</td>\n",
       "      <td>0.487333</td>\n",
       "      <td>00:02</td>\n",
       "    </tr>\n",
       "    <tr>\n",
       "      <td>17</td>\n",
       "      <td>0.078876</td>\n",
       "      <td>3.195657</td>\n",
       "      <td>0.493333</td>\n",
       "      <td>00:02</td>\n",
       "    </tr>\n",
       "    <tr>\n",
       "      <td>18</td>\n",
       "      <td>0.051933</td>\n",
       "      <td>3.205842</td>\n",
       "      <td>0.493333</td>\n",
       "      <td>00:02</td>\n",
       "    </tr>\n",
       "    <tr>\n",
       "      <td>19</td>\n",
       "      <td>0.035491</td>\n",
       "      <td>3.200249</td>\n",
       "      <td>0.495333</td>\n",
       "      <td>00:02</td>\n",
       "    </tr>\n",
       "  </tbody>\n",
       "</table>"
      ],
      "text/plain": [
       "<IPython.core.display.HTML object>"
      ]
     },
     "metadata": {},
     "output_type": "display_data"
    },
    {
     "name": "stdout",
     "output_type": "stream",
     "text": [
      "Better model found at epoch 0 with valid_loss value: 3.059847116470337.\n",
      "Better model found at epoch 1 with valid_loss value: 3.0547783374786377.\n",
      "Better model found at epoch 2 with valid_loss value: 1.774495005607605.\n"
     ]
    },
    {
     "data": {
      "text/html": [
       "\n",
       "<style>\n",
       "    /* Turns off some styling */\n",
       "    progress {\n",
       "        /* gets rid of default border in Firefox and Opera. */\n",
       "        border: none;\n",
       "        /* Needs to be in here for Safari polyfill so background images work as expected. */\n",
       "        background-size: auto;\n",
       "    }\n",
       "    progress:not([value]), progress:not([value])::-webkit-progress-bar {\n",
       "        background: repeating-linear-gradient(45deg, #7e7e7e, #7e7e7e 10px, #5c5c5c 10px, #5c5c5c 20px);\n",
       "    }\n",
       "    .progress-bar-interrupted, .progress-bar-interrupted::-webkit-progress-bar {\n",
       "        background: #F44336;\n",
       "    }\n",
       "</style>\n"
      ],
      "text/plain": [
       "<IPython.core.display.HTML object>"
      ]
     },
     "metadata": {},
     "output_type": "display_data"
    },
    {
     "data": {
      "text/html": [],
      "text/plain": [
       "<IPython.core.display.HTML object>"
      ]
     },
     "metadata": {},
     "output_type": "display_data"
    },
    {
     "data": {
      "text/html": [
       "\n",
       "<style>\n",
       "    /* Turns off some styling */\n",
       "    progress {\n",
       "        /* gets rid of default border in Firefox and Opera. */\n",
       "        border: none;\n",
       "        /* Needs to be in here for Safari polyfill so background images work as expected. */\n",
       "        background-size: auto;\n",
       "    }\n",
       "    progress:not([value]), progress:not([value])::-webkit-progress-bar {\n",
       "        background: repeating-linear-gradient(45deg, #7e7e7e, #7e7e7e 10px, #5c5c5c 10px, #5c5c5c 20px);\n",
       "    }\n",
       "    .progress-bar-interrupted, .progress-bar-interrupted::-webkit-progress-bar {\n",
       "        background: #F44336;\n",
       "    }\n",
       "</style>\n"
      ],
      "text/plain": [
       "<IPython.core.display.HTML object>"
      ]
     },
     "metadata": {},
     "output_type": "display_data"
    },
    {
     "data": {
      "text/html": [
       "<table border=\"1\" class=\"dataframe\">\n",
       "  <thead>\n",
       "    <tr style=\"text-align: left;\">\n",
       "      <th>epoch</th>\n",
       "      <th>train_loss</th>\n",
       "      <th>valid_loss</th>\n",
       "      <th>accuracy</th>\n",
       "      <th>time</th>\n",
       "    </tr>\n",
       "  </thead>\n",
       "  <tbody>\n",
       "    <tr>\n",
       "      <td>0</td>\n",
       "      <td>3.066138</td>\n",
       "      <td>3.211090</td>\n",
       "      <td>0.114667</td>\n",
       "      <td>00:02</td>\n",
       "    </tr>\n",
       "    <tr>\n",
       "      <td>1</td>\n",
       "      <td>2.683068</td>\n",
       "      <td>2.780678</td>\n",
       "      <td>0.166667</td>\n",
       "      <td>00:02</td>\n",
       "    </tr>\n",
       "    <tr>\n",
       "      <td>2</td>\n",
       "      <td>2.382931</td>\n",
       "      <td>2.076695</td>\n",
       "      <td>0.292333</td>\n",
       "      <td>00:03</td>\n",
       "    </tr>\n",
       "    <tr>\n",
       "      <td>3</td>\n",
       "      <td>2.147190</td>\n",
       "      <td>2.462565</td>\n",
       "      <td>0.260333</td>\n",
       "      <td>00:03</td>\n",
       "    </tr>\n",
       "    <tr>\n",
       "      <td>4</td>\n",
       "      <td>1.944510</td>\n",
       "      <td>1.877989</td>\n",
       "      <td>0.346000</td>\n",
       "      <td>00:02</td>\n",
       "    </tr>\n",
       "    <tr>\n",
       "      <td>5</td>\n",
       "      <td>1.761779</td>\n",
       "      <td>2.230484</td>\n",
       "      <td>0.313333</td>\n",
       "      <td>00:03</td>\n",
       "    </tr>\n",
       "    <tr>\n",
       "      <td>6</td>\n",
       "      <td>1.560904</td>\n",
       "      <td>1.858912</td>\n",
       "      <td>0.385333</td>\n",
       "      <td>00:02</td>\n",
       "    </tr>\n",
       "    <tr>\n",
       "      <td>7</td>\n",
       "      <td>1.376249</td>\n",
       "      <td>2.370724</td>\n",
       "      <td>0.313667</td>\n",
       "      <td>00:02</td>\n",
       "    </tr>\n",
       "    <tr>\n",
       "      <td>8</td>\n",
       "      <td>1.179594</td>\n",
       "      <td>2.001790</td>\n",
       "      <td>0.383000</td>\n",
       "      <td>00:03</td>\n",
       "    </tr>\n",
       "    <tr>\n",
       "      <td>9</td>\n",
       "      <td>0.987215</td>\n",
       "      <td>2.050754</td>\n",
       "      <td>0.394000</td>\n",
       "      <td>00:02</td>\n",
       "    </tr>\n",
       "    <tr>\n",
       "      <td>10</td>\n",
       "      <td>0.803553</td>\n",
       "      <td>2.260530</td>\n",
       "      <td>0.397333</td>\n",
       "      <td>00:02</td>\n",
       "    </tr>\n",
       "    <tr>\n",
       "      <td>11</td>\n",
       "      <td>0.633591</td>\n",
       "      <td>2.186856</td>\n",
       "      <td>0.411333</td>\n",
       "      <td>00:03</td>\n",
       "    </tr>\n",
       "    <tr>\n",
       "      <td>12</td>\n",
       "      <td>0.484892</td>\n",
       "      <td>2.376403</td>\n",
       "      <td>0.397000</td>\n",
       "      <td>00:03</td>\n",
       "    </tr>\n",
       "    <tr>\n",
       "      <td>13</td>\n",
       "      <td>0.357379</td>\n",
       "      <td>2.320771</td>\n",
       "      <td>0.425333</td>\n",
       "      <td>00:04</td>\n",
       "    </tr>\n",
       "    <tr>\n",
       "      <td>14</td>\n",
       "      <td>0.261775</td>\n",
       "      <td>2.426355</td>\n",
       "      <td>0.406333</td>\n",
       "      <td>00:04</td>\n",
       "    </tr>\n",
       "    <tr>\n",
       "      <td>15</td>\n",
       "      <td>0.189697</td>\n",
       "      <td>2.467232</td>\n",
       "      <td>0.420333</td>\n",
       "      <td>00:04</td>\n",
       "    </tr>\n",
       "    <tr>\n",
       "      <td>16</td>\n",
       "      <td>0.135645</td>\n",
       "      <td>2.481545</td>\n",
       "      <td>0.415667</td>\n",
       "      <td>00:03</td>\n",
       "    </tr>\n",
       "    <tr>\n",
       "      <td>17</td>\n",
       "      <td>0.098775</td>\n",
       "      <td>2.513082</td>\n",
       "      <td>0.423333</td>\n",
       "      <td>00:03</td>\n",
       "    </tr>\n",
       "    <tr>\n",
       "      <td>18</td>\n",
       "      <td>0.074041</td>\n",
       "      <td>2.513059</td>\n",
       "      <td>0.431000</td>\n",
       "      <td>00:03</td>\n",
       "    </tr>\n",
       "    <tr>\n",
       "      <td>19</td>\n",
       "      <td>0.058771</td>\n",
       "      <td>2.511172</td>\n",
       "      <td>0.429333</td>\n",
       "      <td>00:04</td>\n",
       "    </tr>\n",
       "  </tbody>\n",
       "</table>"
      ],
      "text/plain": [
       "<IPython.core.display.HTML object>"
      ]
     },
     "metadata": {},
     "output_type": "display_data"
    },
    {
     "name": "stdout",
     "output_type": "stream",
     "text": [
      "Better model found at epoch 0 with valid_loss value: 3.211089611053467.\n",
      "Better model found at epoch 1 with valid_loss value: 2.7806780338287354.\n",
      "Better model found at epoch 2 with valid_loss value: 2.076695203781128.\n",
      "Better model found at epoch 4 with valid_loss value: 1.8779892921447754.\n",
      "Better model found at epoch 6 with valid_loss value: 1.8589117527008057.\n"
     ]
    },
    {
     "ename": "RuntimeError",
     "evalue": "Exception occured in `SaveModelCallback` when calling event `after_fit`:\n\tError(s) in loading state_dict for ResNet15:\n\tMissing key(s) in state_dict: \"bn.weight\", \"bn.bias\", \"bn.running_mean\", \"bn.running_var\", \"layer1.0.conv1.weight\", \"layer1.0.bn1.weight\", \"layer1.0.bn1.bias\", \"layer1.0.bn1.running_mean\", \"layer1.0.bn1.running_var\", \"layer1.0.conv2.weight\", \"layer1.0.bn2.weight\", \"layer1.0.bn2.bias\", \"layer1.0.bn2.running_mean\", \"layer1.0.bn2.running_var\", \"layer1.0.conv3.weight\", \"layer1.0.bn3.weight\", \"layer1.0.bn3.bias\", \"layer1.0.bn3.running_mean\", \"layer1.0.bn3.running_var\", \"layer2.0.conv1.weight\", \"layer2.0.bn1.weight\", \"layer2.0.bn1.bias\", \"layer2.0.bn1.running_mean\", \"layer2.0.bn1.running_var\", \"layer2.0.conv2.weight\", \"layer2.0.bn2.weight\", \"layer2.0.bn2.bias\", \"layer2.0.bn2.running_mean\", \"layer2.0.bn2.running_var\", \"layer2.0.conv3.weight\", \"layer2.0.bn3.weight\", \"layer2.0.bn3.bias\", \"layer2.0.bn3.running_mean\", \"layer2.0.bn3.running_var\", \"layer2.0.downsample.0.weight\", \"layer2.0.downsample.1.weight\", \"layer2.0.downsample.1.bias\", \"layer2.0.downsample.1.running_mean\", \"layer2.0.downsample.1.running_var\", \"layer3.0.conv1.weight\", \"layer3.0.bn1.weight\", \"layer3.0.bn1.bias\", \"layer3.0.bn1.running_mean\", \"layer3.0.bn1.running_var\", \"layer3.0.conv2.weight\", \"layer3.0.bn2.weight\", \"layer3.0.bn2.bias\", \"layer3.0.bn2.running_mean\", \"layer3.0.bn2.running_var\", \"layer3.0.conv3.weight\", \"layer3.0.bn3.weight\", \"layer3.0.bn3.bias\", \"layer3.0.bn3.running_mean\", \"layer3.0.bn3.running_var\", \"layer3.0.downsample.0.weight\", \"layer3.0.downsample.1.weight\", \"layer3.0.downsample.1.bias\", \"layer3.0.downsample.1.running_mean\", \"layer3.0.downsample.1.running_var\", \"layer5.0.conv1.weight\", \"layer5.0.bn1.weight\", \"layer5.0.bn1.bias\", \"layer5.0.bn1.running_mean\", \"layer5.0.bn1.running_var\", \"layer5.0.conv2.weight\", \"layer5.0.bn2.weight\", \"layer5.0.bn2.bias\", \"layer5.0.bn2.running_mean\", \"layer5.0.bn2.running_var\", \"layer5.0.conv3.weight\", \"layer5.0.bn3.weight\", \"layer5.0.bn3.bias\", \"layer5.0.bn3.running_mean\", \"layer5.0.bn3.running_var\", \"layer5.0.downsample.0.weight\", \"layer5.0.downsample.1.weight\", \"layer5.0.downsample.1.bias\", \"layer5.0.downsample.1.running_mean\", \"layer5.0.downsample.1.running_var\". \n\tUnexpected key(s) in state_dict: \"conv2.weight\", \"conv2.bias\", \"bn2.weight\", \"bn2.bias\", \"bn2.running_mean\", \"bn2.running_var\", \"bn2.num_batches_tracked\", \"bn3.weight\", \"bn3.bias\", \"bn3.running_mean\", \"bn3.running_var\", \"bn3.num_batches_tracked\", \"fc2.weight\", \"fc2.bias\", \"bn4.weight\", \"bn4.bias\", \"bn4.running_mean\", \"bn4.running_var\", \"bn4.num_batches_tracked\", \"fc3.weight\", \"fc3.bias\", \"conv1.bias\". \n\tsize mismatch for conv1.weight: copying a param with shape torch.Size([6, 1, 5, 5]) from checkpoint, the shape in current model is torch.Size([64, 1, 7, 7]).\n\tsize mismatch for bn1.weight: copying a param with shape torch.Size([6]) from checkpoint, the shape in current model is torch.Size([512]).\n\tsize mismatch for bn1.bias: copying a param with shape torch.Size([6]) from checkpoint, the shape in current model is torch.Size([512]).\n\tsize mismatch for bn1.running_mean: copying a param with shape torch.Size([6]) from checkpoint, the shape in current model is torch.Size([512]).\n\tsize mismatch for bn1.running_var: copying a param with shape torch.Size([6]) from checkpoint, the shape in current model is torch.Size([512]).\n\tsize mismatch for fc1.weight: copying a param with shape torch.Size([120, 400]) from checkpoint, the shape in current model is torch.Size([10, 512]).\n\tsize mismatch for fc1.bias: copying a param with shape torch.Size([120]) from checkpoint, the shape in current model is torch.Size([10]).",
     "output_type": "error",
     "traceback": [
      "\u001b[0;31m---------------------------------------------------------------------------\u001b[0m",
      "\u001b[0;31mRuntimeError\u001b[0m                              Traceback (most recent call last)",
      "Cell \u001b[0;32mIn[15], line 5\u001b[0m\n\u001b[1;32m      3\u001b[0m lr\u001b[38;5;241m=\u001b[39mlearner\u001b[38;5;241m.\u001b[39mlr_find()\n\u001b[1;32m      4\u001b[0m start \u001b[38;5;241m=\u001b[39m time\u001b[38;5;241m.\u001b[39mperf_counter()\n\u001b[0;32m----> 5\u001b[0m \u001b[43mlearner\u001b[49m\u001b[38;5;241;43m.\u001b[39;49m\u001b[43mfit_one_cycle\u001b[49m\u001b[43m(\u001b[49m\u001b[43mepochs\u001b[49m\u001b[43m,\u001b[49m\u001b[43m \u001b[49m\u001b[43mlr\u001b[49m\u001b[43m)\u001b[49m\n\u001b[1;32m      6\u001b[0m end \u001b[38;5;241m=\u001b[39m time\u001b[38;5;241m.\u001b[39mperf_counter()\n\u001b[1;32m      7\u001b[0m time_gd[\u001b[38;5;124m'\u001b[39m\u001b[38;5;124mRMSProp\u001b[39m\u001b[38;5;124m'\u001b[39m][model] \u001b[38;5;241m=\u001b[39m end\u001b[38;5;241m-\u001b[39mstart\n",
      "File \u001b[0;32m/usr/local/lib/python3.11/dist-packages/fastai/callback/schedule.py:121\u001b[0m, in \u001b[0;36mfit_one_cycle\u001b[0;34m(self, n_epoch, lr_max, div, div_final, pct_start, wd, moms, cbs, reset_opt, start_epoch)\u001b[0m\n\u001b[1;32m    118\u001b[0m lr_max \u001b[38;5;241m=\u001b[39m np\u001b[38;5;241m.\u001b[39marray([h[\u001b[38;5;124m'\u001b[39m\u001b[38;5;124mlr\u001b[39m\u001b[38;5;124m'\u001b[39m] \u001b[38;5;28;01mfor\u001b[39;00m h \u001b[38;5;129;01min\u001b[39;00m \u001b[38;5;28mself\u001b[39m\u001b[38;5;241m.\u001b[39mopt\u001b[38;5;241m.\u001b[39mhypers])\n\u001b[1;32m    119\u001b[0m scheds \u001b[38;5;241m=\u001b[39m {\u001b[38;5;124m'\u001b[39m\u001b[38;5;124mlr\u001b[39m\u001b[38;5;124m'\u001b[39m: combined_cos(pct_start, lr_max\u001b[38;5;241m/\u001b[39mdiv, lr_max, lr_max\u001b[38;5;241m/\u001b[39mdiv_final),\n\u001b[1;32m    120\u001b[0m           \u001b[38;5;124m'\u001b[39m\u001b[38;5;124mmom\u001b[39m\u001b[38;5;124m'\u001b[39m: combined_cos(pct_start, \u001b[38;5;241m*\u001b[39m(\u001b[38;5;28mself\u001b[39m\u001b[38;5;241m.\u001b[39mmoms \u001b[38;5;28;01mif\u001b[39;00m moms \u001b[38;5;129;01mis\u001b[39;00m \u001b[38;5;28;01mNone\u001b[39;00m \u001b[38;5;28;01melse\u001b[39;00m moms))}\n\u001b[0;32m--> 121\u001b[0m \u001b[38;5;28;43mself\u001b[39;49m\u001b[38;5;241;43m.\u001b[39;49m\u001b[43mfit\u001b[49m\u001b[43m(\u001b[49m\u001b[43mn_epoch\u001b[49m\u001b[43m,\u001b[49m\u001b[43m \u001b[49m\u001b[43mcbs\u001b[49m\u001b[38;5;241;43m=\u001b[39;49m\u001b[43mParamScheduler\u001b[49m\u001b[43m(\u001b[49m\u001b[43mscheds\u001b[49m\u001b[43m)\u001b[49m\u001b[38;5;241;43m+\u001b[39;49m\u001b[43mL\u001b[49m\u001b[43m(\u001b[49m\u001b[43mcbs\u001b[49m\u001b[43m)\u001b[49m\u001b[43m,\u001b[49m\u001b[43m \u001b[49m\u001b[43mreset_opt\u001b[49m\u001b[38;5;241;43m=\u001b[39;49m\u001b[43mreset_opt\u001b[49m\u001b[43m,\u001b[49m\u001b[43m \u001b[49m\u001b[43mwd\u001b[49m\u001b[38;5;241;43m=\u001b[39;49m\u001b[43mwd\u001b[49m\u001b[43m,\u001b[49m\u001b[43m \u001b[49m\u001b[43mstart_epoch\u001b[49m\u001b[38;5;241;43m=\u001b[39;49m\u001b[43mstart_epoch\u001b[49m\u001b[43m)\u001b[49m\n",
      "File \u001b[0;32m/usr/local/lib/python3.11/dist-packages/fastai/learner.py:266\u001b[0m, in \u001b[0;36mLearner.fit\u001b[0;34m(self, n_epoch, lr, wd, cbs, reset_opt, start_epoch)\u001b[0m\n\u001b[1;32m    264\u001b[0m \u001b[38;5;28mself\u001b[39m\u001b[38;5;241m.\u001b[39mopt\u001b[38;5;241m.\u001b[39mset_hypers(lr\u001b[38;5;241m=\u001b[39m\u001b[38;5;28mself\u001b[39m\u001b[38;5;241m.\u001b[39mlr \u001b[38;5;28;01mif\u001b[39;00m lr \u001b[38;5;129;01mis\u001b[39;00m \u001b[38;5;28;01mNone\u001b[39;00m \u001b[38;5;28;01melse\u001b[39;00m lr)\n\u001b[1;32m    265\u001b[0m \u001b[38;5;28mself\u001b[39m\u001b[38;5;241m.\u001b[39mn_epoch \u001b[38;5;241m=\u001b[39m n_epoch\n\u001b[0;32m--> 266\u001b[0m \u001b[38;5;28;43mself\u001b[39;49m\u001b[38;5;241;43m.\u001b[39;49m\u001b[43m_with_events\u001b[49m\u001b[43m(\u001b[49m\u001b[38;5;28;43mself\u001b[39;49m\u001b[38;5;241;43m.\u001b[39;49m\u001b[43m_do_fit\u001b[49m\u001b[43m,\u001b[49m\u001b[43m \u001b[49m\u001b[38;5;124;43m'\u001b[39;49m\u001b[38;5;124;43mfit\u001b[39;49m\u001b[38;5;124;43m'\u001b[39;49m\u001b[43m,\u001b[49m\u001b[43m \u001b[49m\u001b[43mCancelFitException\u001b[49m\u001b[43m,\u001b[49m\u001b[43m \u001b[49m\u001b[38;5;28;43mself\u001b[39;49m\u001b[38;5;241;43m.\u001b[39;49m\u001b[43m_end_cleanup\u001b[49m\u001b[43m)\u001b[49m\n",
      "File \u001b[0;32m/usr/local/lib/python3.11/dist-packages/fastai/learner.py:203\u001b[0m, in \u001b[0;36mLearner._with_events\u001b[0;34m(self, f, event_type, ex, final)\u001b[0m\n\u001b[1;32m    201\u001b[0m \u001b[38;5;28;01mtry\u001b[39;00m: \u001b[38;5;28mself\u001b[39m(\u001b[38;5;124mf\u001b[39m\u001b[38;5;124m'\u001b[39m\u001b[38;5;124mbefore_\u001b[39m\u001b[38;5;132;01m{\u001b[39;00mevent_type\u001b[38;5;132;01m}\u001b[39;00m\u001b[38;5;124m'\u001b[39m);  f()\n\u001b[1;32m    202\u001b[0m \u001b[38;5;28;01mexcept\u001b[39;00m ex: \u001b[38;5;28mself\u001b[39m(\u001b[38;5;124mf\u001b[39m\u001b[38;5;124m'\u001b[39m\u001b[38;5;124mafter_cancel_\u001b[39m\u001b[38;5;132;01m{\u001b[39;00mevent_type\u001b[38;5;132;01m}\u001b[39;00m\u001b[38;5;124m'\u001b[39m)\n\u001b[0;32m--> 203\u001b[0m \u001b[38;5;28;43mself\u001b[39;49m\u001b[43m(\u001b[49m\u001b[38;5;124;43mf\u001b[39;49m\u001b[38;5;124;43m'\u001b[39;49m\u001b[38;5;124;43mafter_\u001b[39;49m\u001b[38;5;132;43;01m{\u001b[39;49;00m\u001b[43mevent_type\u001b[49m\u001b[38;5;132;43;01m}\u001b[39;49;00m\u001b[38;5;124;43m'\u001b[39;49m\u001b[43m)\u001b[49m;  final()\n",
      "File \u001b[0;32m/usr/local/lib/python3.11/dist-packages/fastai/learner.py:174\u001b[0m, in \u001b[0;36mLearner.__call__\u001b[0;34m(self, event_name)\u001b[0m\n\u001b[0;32m--> 174\u001b[0m \u001b[38;5;28;01mdef\u001b[39;00m \u001b[38;5;21m__call__\u001b[39m(\u001b[38;5;28mself\u001b[39m, event_name): \u001b[43mL\u001b[49m\u001b[43m(\u001b[49m\u001b[43mevent_name\u001b[49m\u001b[43m)\u001b[49m\u001b[38;5;241;43m.\u001b[39;49m\u001b[43mmap\u001b[49m\u001b[43m(\u001b[49m\u001b[38;5;28;43mself\u001b[39;49m\u001b[38;5;241;43m.\u001b[39;49m\u001b[43m_call_one\u001b[49m\u001b[43m)\u001b[49m\n",
      "File \u001b[0;32m/usr/local/lib/python3.11/dist-packages/fastcore/foundation.py:159\u001b[0m, in \u001b[0;36mL.map\u001b[0;34m(self, f, *args, **kwargs)\u001b[0m\n\u001b[0;32m--> 159\u001b[0m \u001b[38;5;28;01mdef\u001b[39;00m \u001b[38;5;21mmap\u001b[39m(\u001b[38;5;28mself\u001b[39m, f, \u001b[38;5;241m*\u001b[39margs, \u001b[38;5;241m*\u001b[39m\u001b[38;5;241m*\u001b[39mkwargs): \u001b[38;5;28;01mreturn\u001b[39;00m \u001b[38;5;28mself\u001b[39m\u001b[38;5;241m.\u001b[39m_new(\u001b[43mmap_ex\u001b[49m\u001b[43m(\u001b[49m\u001b[38;5;28;43mself\u001b[39;49m\u001b[43m,\u001b[49m\u001b[43m \u001b[49m\u001b[43mf\u001b[49m\u001b[43m,\u001b[49m\u001b[43m \u001b[49m\u001b[38;5;241;43m*\u001b[39;49m\u001b[43margs\u001b[49m\u001b[43m,\u001b[49m\u001b[43m \u001b[49m\u001b[43mgen\u001b[49m\u001b[38;5;241;43m=\u001b[39;49m\u001b[38;5;28;43;01mFalse\u001b[39;49;00m\u001b[43m,\u001b[49m\u001b[43m \u001b[49m\u001b[38;5;241;43m*\u001b[39;49m\u001b[38;5;241;43m*\u001b[39;49m\u001b[43mkwargs\u001b[49m\u001b[43m)\u001b[49m)\n",
      "File \u001b[0;32m/usr/local/lib/python3.11/dist-packages/fastcore/basics.py:899\u001b[0m, in \u001b[0;36mmap_ex\u001b[0;34m(iterable, f, gen, *args, **kwargs)\u001b[0m\n\u001b[1;32m    897\u001b[0m res \u001b[38;5;241m=\u001b[39m \u001b[38;5;28mmap\u001b[39m(g, iterable)\n\u001b[1;32m    898\u001b[0m \u001b[38;5;28;01mif\u001b[39;00m gen: \u001b[38;5;28;01mreturn\u001b[39;00m res\n\u001b[0;32m--> 899\u001b[0m \u001b[38;5;28;01mreturn\u001b[39;00m \u001b[38;5;28mlist\u001b[39m(res)\n",
      "File \u001b[0;32m/usr/local/lib/python3.11/dist-packages/fastcore/basics.py:884\u001b[0m, in \u001b[0;36mbind.__call__\u001b[0;34m(self, *args, **kwargs)\u001b[0m\n\u001b[1;32m    882\u001b[0m     \u001b[38;5;28;01mif\u001b[39;00m \u001b[38;5;28misinstance\u001b[39m(v,_Arg): kwargs[k] \u001b[38;5;241m=\u001b[39m args\u001b[38;5;241m.\u001b[39mpop(v\u001b[38;5;241m.\u001b[39mi)\n\u001b[1;32m    883\u001b[0m fargs \u001b[38;5;241m=\u001b[39m [args[x\u001b[38;5;241m.\u001b[39mi] \u001b[38;5;28;01mif\u001b[39;00m \u001b[38;5;28misinstance\u001b[39m(x, _Arg) \u001b[38;5;28;01melse\u001b[39;00m x \u001b[38;5;28;01mfor\u001b[39;00m x \u001b[38;5;129;01min\u001b[39;00m \u001b[38;5;28mself\u001b[39m\u001b[38;5;241m.\u001b[39mpargs] \u001b[38;5;241m+\u001b[39m args[\u001b[38;5;28mself\u001b[39m\u001b[38;5;241m.\u001b[39mmaxi\u001b[38;5;241m+\u001b[39m\u001b[38;5;241m1\u001b[39m:]\n\u001b[0;32m--> 884\u001b[0m \u001b[38;5;28;01mreturn\u001b[39;00m \u001b[38;5;28;43mself\u001b[39;49m\u001b[38;5;241;43m.\u001b[39;49m\u001b[43mfunc\u001b[49m\u001b[43m(\u001b[49m\u001b[38;5;241;43m*\u001b[39;49m\u001b[43mfargs\u001b[49m\u001b[43m,\u001b[49m\u001b[43m \u001b[49m\u001b[38;5;241;43m*\u001b[39;49m\u001b[38;5;241;43m*\u001b[39;49m\u001b[43mkwargs\u001b[49m\u001b[43m)\u001b[49m\n",
      "File \u001b[0;32m/usr/local/lib/python3.11/dist-packages/fastai/learner.py:178\u001b[0m, in \u001b[0;36mLearner._call_one\u001b[0;34m(self, event_name)\u001b[0m\n\u001b[1;32m    176\u001b[0m \u001b[38;5;28;01mdef\u001b[39;00m \u001b[38;5;21m_call_one\u001b[39m(\u001b[38;5;28mself\u001b[39m, event_name):\n\u001b[1;32m    177\u001b[0m     \u001b[38;5;28;01mif\u001b[39;00m \u001b[38;5;129;01mnot\u001b[39;00m \u001b[38;5;28mhasattr\u001b[39m(event, event_name): \u001b[38;5;28;01mraise\u001b[39;00m \u001b[38;5;167;01mException\u001b[39;00m(\u001b[38;5;124mf\u001b[39m\u001b[38;5;124m'\u001b[39m\u001b[38;5;124mmissing \u001b[39m\u001b[38;5;132;01m{\u001b[39;00mevent_name\u001b[38;5;132;01m}\u001b[39;00m\u001b[38;5;124m'\u001b[39m)\n\u001b[0;32m--> 178\u001b[0m     \u001b[38;5;28;01mfor\u001b[39;00m cb \u001b[38;5;129;01min\u001b[39;00m \u001b[38;5;28mself\u001b[39m\u001b[38;5;241m.\u001b[39mcbs\u001b[38;5;241m.\u001b[39msorted(\u001b[38;5;124m'\u001b[39m\u001b[38;5;124morder\u001b[39m\u001b[38;5;124m'\u001b[39m): \u001b[43mcb\u001b[49m\u001b[43m(\u001b[49m\u001b[43mevent_name\u001b[49m\u001b[43m)\u001b[49m\n",
      "File \u001b[0;32m/usr/local/lib/python3.11/dist-packages/fastai/callback/core.py:64\u001b[0m, in \u001b[0;36mCallback.__call__\u001b[0;34m(self, event_name)\u001b[0m\n\u001b[1;32m     62\u001b[0m     \u001b[38;5;28;01mtry\u001b[39;00m: res \u001b[38;5;241m=\u001b[39m getcallable(\u001b[38;5;28mself\u001b[39m, event_name)()\n\u001b[1;32m     63\u001b[0m     \u001b[38;5;28;01mexcept\u001b[39;00m (CancelBatchException, CancelBackwardException, CancelEpochException, CancelFitException, CancelStepException, CancelTrainException, CancelValidException): \u001b[38;5;28;01mraise\u001b[39;00m\n\u001b[0;32m---> 64\u001b[0m     \u001b[38;5;28;01mexcept\u001b[39;00m \u001b[38;5;167;01mException\u001b[39;00m \u001b[38;5;28;01mas\u001b[39;00m e: \u001b[38;5;28;01mraise\u001b[39;00m modify_exception(e, \u001b[38;5;124mf\u001b[39m\u001b[38;5;124m'\u001b[39m\u001b[38;5;124mException occured in `\u001b[39m\u001b[38;5;132;01m{\u001b[39;00m\u001b[38;5;28mself\u001b[39m\u001b[38;5;241m.\u001b[39m\u001b[38;5;18m__class__\u001b[39m\u001b[38;5;241m.\u001b[39m\u001b[38;5;18m__name__\u001b[39m\u001b[38;5;132;01m}\u001b[39;00m\u001b[38;5;124m` when calling event `\u001b[39m\u001b[38;5;132;01m{\u001b[39;00mevent_name\u001b[38;5;132;01m}\u001b[39;00m\u001b[38;5;124m`:\u001b[39m\u001b[38;5;130;01m\\n\u001b[39;00m\u001b[38;5;130;01m\\t\u001b[39;00m\u001b[38;5;132;01m{\u001b[39;00me\u001b[38;5;241m.\u001b[39margs[\u001b[38;5;241m0\u001b[39m]\u001b[38;5;132;01m}\u001b[39;00m\u001b[38;5;124m'\u001b[39m, replace\u001b[38;5;241m=\u001b[39m\u001b[38;5;28;01mTrue\u001b[39;00m)\n\u001b[1;32m     65\u001b[0m \u001b[38;5;28;01mif\u001b[39;00m event_name\u001b[38;5;241m==\u001b[39m\u001b[38;5;124m'\u001b[39m\u001b[38;5;124mafter_fit\u001b[39m\u001b[38;5;124m'\u001b[39m: \u001b[38;5;28mself\u001b[39m\u001b[38;5;241m.\u001b[39mrun\u001b[38;5;241m=\u001b[39m\u001b[38;5;28;01mTrue\u001b[39;00m \u001b[38;5;66;03m#Reset self.run to True at each end of fit\u001b[39;00m\n\u001b[1;32m     66\u001b[0m \u001b[38;5;28;01mreturn\u001b[39;00m res\n",
      "File \u001b[0;32m/usr/local/lib/python3.11/dist-packages/fastai/callback/core.py:62\u001b[0m, in \u001b[0;36mCallback.__call__\u001b[0;34m(self, event_name)\u001b[0m\n\u001b[1;32m     60\u001b[0m res \u001b[38;5;241m=\u001b[39m \u001b[38;5;28;01mNone\u001b[39;00m\n\u001b[1;32m     61\u001b[0m \u001b[38;5;28;01mif\u001b[39;00m \u001b[38;5;28mself\u001b[39m\u001b[38;5;241m.\u001b[39mrun \u001b[38;5;129;01mand\u001b[39;00m _run: \n\u001b[0;32m---> 62\u001b[0m     \u001b[38;5;28;01mtry\u001b[39;00m: res \u001b[38;5;241m=\u001b[39m \u001b[43mgetcallable\u001b[49m\u001b[43m(\u001b[49m\u001b[38;5;28;43mself\u001b[39;49m\u001b[43m,\u001b[49m\u001b[43m \u001b[49m\u001b[43mevent_name\u001b[49m\u001b[43m)\u001b[49m\u001b[43m(\u001b[49m\u001b[43m)\u001b[49m\n\u001b[1;32m     63\u001b[0m     \u001b[38;5;28;01mexcept\u001b[39;00m (CancelBatchException, CancelBackwardException, CancelEpochException, CancelFitException, CancelStepException, CancelTrainException, CancelValidException): \u001b[38;5;28;01mraise\u001b[39;00m\n\u001b[1;32m     64\u001b[0m     \u001b[38;5;28;01mexcept\u001b[39;00m \u001b[38;5;167;01mException\u001b[39;00m \u001b[38;5;28;01mas\u001b[39;00m e: \u001b[38;5;28;01mraise\u001b[39;00m modify_exception(e, \u001b[38;5;124mf\u001b[39m\u001b[38;5;124m'\u001b[39m\u001b[38;5;124mException occured in `\u001b[39m\u001b[38;5;132;01m{\u001b[39;00m\u001b[38;5;28mself\u001b[39m\u001b[38;5;241m.\u001b[39m\u001b[38;5;18m__class__\u001b[39m\u001b[38;5;241m.\u001b[39m\u001b[38;5;18m__name__\u001b[39m\u001b[38;5;132;01m}\u001b[39;00m\u001b[38;5;124m` when calling event `\u001b[39m\u001b[38;5;132;01m{\u001b[39;00mevent_name\u001b[38;5;132;01m}\u001b[39;00m\u001b[38;5;124m`:\u001b[39m\u001b[38;5;130;01m\\n\u001b[39;00m\u001b[38;5;130;01m\\t\u001b[39;00m\u001b[38;5;132;01m{\u001b[39;00me\u001b[38;5;241m.\u001b[39margs[\u001b[38;5;241m0\u001b[39m]\u001b[38;5;132;01m}\u001b[39;00m\u001b[38;5;124m'\u001b[39m, replace\u001b[38;5;241m=\u001b[39m\u001b[38;5;28;01mTrue\u001b[39;00m)\n",
      "File \u001b[0;32m/usr/local/lib/python3.11/dist-packages/fastai/callback/tracker.py:111\u001b[0m, in \u001b[0;36mSaveModelCallback.after_fit\u001b[0;34m(self, **kwargs)\u001b[0m\n\u001b[1;32m    109\u001b[0m \u001b[38;5;124m\"\u001b[39m\u001b[38;5;124mLoad the best model.\u001b[39m\u001b[38;5;124m\"\u001b[39m\n\u001b[1;32m    110\u001b[0m \u001b[38;5;28;01mif\u001b[39;00m \u001b[38;5;28mself\u001b[39m\u001b[38;5;241m.\u001b[39mat_end: \u001b[38;5;28mself\u001b[39m\u001b[38;5;241m.\u001b[39m_save(\u001b[38;5;124mf\u001b[39m\u001b[38;5;124m'\u001b[39m\u001b[38;5;132;01m{\u001b[39;00m\u001b[38;5;28mself\u001b[39m\u001b[38;5;241m.\u001b[39mfname\u001b[38;5;132;01m}\u001b[39;00m\u001b[38;5;124m'\u001b[39m)\n\u001b[0;32m--> 111\u001b[0m \u001b[38;5;28;01melif\u001b[39;00m \u001b[38;5;129;01mnot\u001b[39;00m \u001b[38;5;28mself\u001b[39m\u001b[38;5;241m.\u001b[39mevery_epoch: \u001b[38;5;28;43mself\u001b[39;49m\u001b[38;5;241;43m.\u001b[39;49m\u001b[43mlearn\u001b[49m\u001b[38;5;241;43m.\u001b[39;49m\u001b[43mload\u001b[49m\u001b[43m(\u001b[49m\u001b[38;5;124;43mf\u001b[39;49m\u001b[38;5;124;43m'\u001b[39;49m\u001b[38;5;132;43;01m{\u001b[39;49;00m\u001b[38;5;28;43mself\u001b[39;49m\u001b[38;5;241;43m.\u001b[39;49m\u001b[43mfname\u001b[49m\u001b[38;5;132;43;01m}\u001b[39;49;00m\u001b[38;5;124;43m'\u001b[39;49m\u001b[43m,\u001b[49m\u001b[43m \u001b[49m\u001b[43mwith_opt\u001b[49m\u001b[38;5;241;43m=\u001b[39;49m\u001b[38;5;28;43mself\u001b[39;49m\u001b[38;5;241;43m.\u001b[39;49m\u001b[43mwith_opt\u001b[49m\u001b[43m)\u001b[49m\n",
      "File \u001b[0;32m/usr/local/lib/python3.11/dist-packages/fastai/learner.py:422\u001b[0m, in \u001b[0;36mload\u001b[0;34m(self, file, device, **kwargs)\u001b[0m\n\u001b[1;32m    420\u001b[0m file \u001b[38;5;241m=\u001b[39m join_path_file(file, \u001b[38;5;28mself\u001b[39m\u001b[38;5;241m.\u001b[39mpath\u001b[38;5;241m/\u001b[39m\u001b[38;5;28mself\u001b[39m\u001b[38;5;241m.\u001b[39mmodel_dir, ext\u001b[38;5;241m=\u001b[39m\u001b[38;5;124m'\u001b[39m\u001b[38;5;124m.pth\u001b[39m\u001b[38;5;124m'\u001b[39m)\n\u001b[1;32m    421\u001b[0m distrib_barrier()\n\u001b[0;32m--> 422\u001b[0m \u001b[43mload_model\u001b[49m\u001b[43m(\u001b[49m\u001b[43mfile\u001b[49m\u001b[43m,\u001b[49m\u001b[43m \u001b[49m\u001b[38;5;28;43mself\u001b[39;49m\u001b[38;5;241;43m.\u001b[39;49m\u001b[43mmodel\u001b[49m\u001b[43m,\u001b[49m\u001b[43m \u001b[49m\u001b[38;5;28;43mself\u001b[39;49m\u001b[38;5;241;43m.\u001b[39;49m\u001b[43mopt\u001b[49m\u001b[43m,\u001b[49m\u001b[43m \u001b[49m\u001b[43mdevice\u001b[49m\u001b[38;5;241;43m=\u001b[39;49m\u001b[43mdevice\u001b[49m\u001b[43m,\u001b[49m\u001b[43m \u001b[49m\u001b[38;5;241;43m*\u001b[39;49m\u001b[38;5;241;43m*\u001b[39;49m\u001b[43mkwargs\u001b[49m\u001b[43m)\u001b[49m\n\u001b[1;32m    423\u001b[0m \u001b[38;5;28;01mreturn\u001b[39;00m \u001b[38;5;28mself\u001b[39m\n",
      "File \u001b[0;32m/usr/local/lib/python3.11/dist-packages/fastai/learner.py:56\u001b[0m, in \u001b[0;36mload_model\u001b[0;34m(file, model, opt, with_opt, device, strict, **torch_load_kwargs)\u001b[0m\n\u001b[1;32m     54\u001b[0m hasopt \u001b[38;5;241m=\u001b[39m \u001b[38;5;28mset\u001b[39m(state)\u001b[38;5;241m==\u001b[39m{\u001b[38;5;124m'\u001b[39m\u001b[38;5;124mmodel\u001b[39m\u001b[38;5;124m'\u001b[39m, \u001b[38;5;124m'\u001b[39m\u001b[38;5;124mopt\u001b[39m\u001b[38;5;124m'\u001b[39m}\n\u001b[1;32m     55\u001b[0m model_state \u001b[38;5;241m=\u001b[39m state[\u001b[38;5;124m'\u001b[39m\u001b[38;5;124mmodel\u001b[39m\u001b[38;5;124m'\u001b[39m] \u001b[38;5;28;01mif\u001b[39;00m hasopt \u001b[38;5;28;01melse\u001b[39;00m state\n\u001b[0;32m---> 56\u001b[0m \u001b[43mget_model\u001b[49m\u001b[43m(\u001b[49m\u001b[43mmodel\u001b[49m\u001b[43m)\u001b[49m\u001b[38;5;241;43m.\u001b[39;49m\u001b[43mload_state_dict\u001b[49m\u001b[43m(\u001b[49m\u001b[43mmodel_state\u001b[49m\u001b[43m,\u001b[49m\u001b[43m \u001b[49m\u001b[43mstrict\u001b[49m\u001b[38;5;241;43m=\u001b[39;49m\u001b[43mstrict\u001b[49m\u001b[43m)\u001b[49m\n\u001b[1;32m     57\u001b[0m \u001b[38;5;28;01mif\u001b[39;00m hasopt \u001b[38;5;129;01mand\u001b[39;00m with_opt:\n\u001b[1;32m     58\u001b[0m     \u001b[38;5;28;01mtry\u001b[39;00m: opt\u001b[38;5;241m.\u001b[39mload_state_dict(state[\u001b[38;5;124m'\u001b[39m\u001b[38;5;124mopt\u001b[39m\u001b[38;5;124m'\u001b[39m])\n",
      "File \u001b[0;32m/usr/local/lib/python3.11/dist-packages/torch/nn/modules/module.py:2152\u001b[0m, in \u001b[0;36mModule.load_state_dict\u001b[0;34m(self, state_dict, strict, assign)\u001b[0m\n\u001b[1;32m   2147\u001b[0m         error_msgs\u001b[38;5;241m.\u001b[39minsert(\n\u001b[1;32m   2148\u001b[0m             \u001b[38;5;241m0\u001b[39m, \u001b[38;5;124m'\u001b[39m\u001b[38;5;124mMissing key(s) in state_dict: \u001b[39m\u001b[38;5;132;01m{}\u001b[39;00m\u001b[38;5;124m. \u001b[39m\u001b[38;5;124m'\u001b[39m\u001b[38;5;241m.\u001b[39mformat(\n\u001b[1;32m   2149\u001b[0m                 \u001b[38;5;124m'\u001b[39m\u001b[38;5;124m, \u001b[39m\u001b[38;5;124m'\u001b[39m\u001b[38;5;241m.\u001b[39mjoin(\u001b[38;5;124mf\u001b[39m\u001b[38;5;124m'\u001b[39m\u001b[38;5;124m\"\u001b[39m\u001b[38;5;132;01m{\u001b[39;00mk\u001b[38;5;132;01m}\u001b[39;00m\u001b[38;5;124m\"\u001b[39m\u001b[38;5;124m'\u001b[39m \u001b[38;5;28;01mfor\u001b[39;00m k \u001b[38;5;129;01min\u001b[39;00m missing_keys)))\n\u001b[1;32m   2151\u001b[0m \u001b[38;5;28;01mif\u001b[39;00m \u001b[38;5;28mlen\u001b[39m(error_msgs) \u001b[38;5;241m>\u001b[39m \u001b[38;5;241m0\u001b[39m:\n\u001b[0;32m-> 2152\u001b[0m     \u001b[38;5;28;01mraise\u001b[39;00m \u001b[38;5;167;01mRuntimeError\u001b[39;00m(\u001b[38;5;124m'\u001b[39m\u001b[38;5;124mError(s) in loading state_dict for \u001b[39m\u001b[38;5;132;01m{}\u001b[39;00m\u001b[38;5;124m:\u001b[39m\u001b[38;5;130;01m\\n\u001b[39;00m\u001b[38;5;130;01m\\t\u001b[39;00m\u001b[38;5;132;01m{}\u001b[39;00m\u001b[38;5;124m'\u001b[39m\u001b[38;5;241m.\u001b[39mformat(\n\u001b[1;32m   2153\u001b[0m                        \u001b[38;5;28mself\u001b[39m\u001b[38;5;241m.\u001b[39m\u001b[38;5;18m__class__\u001b[39m\u001b[38;5;241m.\u001b[39m\u001b[38;5;18m__name__\u001b[39m, \u001b[38;5;124m\"\u001b[39m\u001b[38;5;130;01m\\n\u001b[39;00m\u001b[38;5;130;01m\\t\u001b[39;00m\u001b[38;5;124m\"\u001b[39m\u001b[38;5;241m.\u001b[39mjoin(error_msgs)))\n\u001b[1;32m   2154\u001b[0m \u001b[38;5;28;01mreturn\u001b[39;00m _IncompatibleKeys(missing_keys, unexpected_keys)\n",
      "\u001b[0;31mRuntimeError\u001b[0m: Exception occured in `SaveModelCallback` when calling event `after_fit`:\n\tError(s) in loading state_dict for ResNet15:\n\tMissing key(s) in state_dict: \"bn.weight\", \"bn.bias\", \"bn.running_mean\", \"bn.running_var\", \"layer1.0.conv1.weight\", \"layer1.0.bn1.weight\", \"layer1.0.bn1.bias\", \"layer1.0.bn1.running_mean\", \"layer1.0.bn1.running_var\", \"layer1.0.conv2.weight\", \"layer1.0.bn2.weight\", \"layer1.0.bn2.bias\", \"layer1.0.bn2.running_mean\", \"layer1.0.bn2.running_var\", \"layer1.0.conv3.weight\", \"layer1.0.bn3.weight\", \"layer1.0.bn3.bias\", \"layer1.0.bn3.running_mean\", \"layer1.0.bn3.running_var\", \"layer2.0.conv1.weight\", \"layer2.0.bn1.weight\", \"layer2.0.bn1.bias\", \"layer2.0.bn1.running_mean\", \"layer2.0.bn1.running_var\", \"layer2.0.conv2.weight\", \"layer2.0.bn2.weight\", \"layer2.0.bn2.bias\", \"layer2.0.bn2.running_mean\", \"layer2.0.bn2.running_var\", \"layer2.0.conv3.weight\", \"layer2.0.bn3.weight\", \"layer2.0.bn3.bias\", \"layer2.0.bn3.running_mean\", \"layer2.0.bn3.running_var\", \"layer2.0.downsample.0.weight\", \"layer2.0.downsample.1.weight\", \"layer2.0.downsample.1.bias\", \"layer2.0.downsample.1.running_mean\", \"layer2.0.downsample.1.running_var\", \"layer3.0.conv1.weight\", \"layer3.0.bn1.weight\", \"layer3.0.bn1.bias\", \"layer3.0.bn1.running_mean\", \"layer3.0.bn1.running_var\", \"layer3.0.conv2.weight\", \"layer3.0.bn2.weight\", \"layer3.0.bn2.bias\", \"layer3.0.bn2.running_mean\", \"layer3.0.bn2.running_var\", \"layer3.0.conv3.weight\", \"layer3.0.bn3.weight\", \"layer3.0.bn3.bias\", \"layer3.0.bn3.running_mean\", \"layer3.0.bn3.running_var\", \"layer3.0.downsample.0.weight\", \"layer3.0.downsample.1.weight\", \"layer3.0.downsample.1.bias\", \"layer3.0.downsample.1.running_mean\", \"layer3.0.downsample.1.running_var\", \"layer5.0.conv1.weight\", \"layer5.0.bn1.weight\", \"layer5.0.bn1.bias\", \"layer5.0.bn1.running_mean\", \"layer5.0.bn1.running_var\", \"layer5.0.conv2.weight\", \"layer5.0.bn2.weight\", \"layer5.0.bn2.bias\", \"layer5.0.bn2.running_mean\", \"layer5.0.bn2.running_var\", \"layer5.0.conv3.weight\", \"layer5.0.bn3.weight\", \"layer5.0.bn3.bias\", \"layer5.0.bn3.running_mean\", \"layer5.0.bn3.running_var\", \"layer5.0.downsample.0.weight\", \"layer5.0.downsample.1.weight\", \"layer5.0.downsample.1.bias\", \"layer5.0.downsample.1.running_mean\", \"layer5.0.downsample.1.running_var\". \n\tUnexpected key(s) in state_dict: \"conv2.weight\", \"conv2.bias\", \"bn2.weight\", \"bn2.bias\", \"bn2.running_mean\", \"bn2.running_var\", \"bn2.num_batches_tracked\", \"bn3.weight\", \"bn3.bias\", \"bn3.running_mean\", \"bn3.running_var\", \"bn3.num_batches_tracked\", \"fc2.weight\", \"fc2.bias\", \"bn4.weight\", \"bn4.bias\", \"bn4.running_mean\", \"bn4.running_var\", \"bn4.num_batches_tracked\", \"fc3.weight\", \"fc3.bias\", \"conv1.bias\". \n\tsize mismatch for conv1.weight: copying a param with shape torch.Size([6, 1, 5, 5]) from checkpoint, the shape in current model is torch.Size([64, 1, 7, 7]).\n\tsize mismatch for bn1.weight: copying a param with shape torch.Size([6]) from checkpoint, the shape in current model is torch.Size([512]).\n\tsize mismatch for bn1.bias: copying a param with shape torch.Size([6]) from checkpoint, the shape in current model is torch.Size([512]).\n\tsize mismatch for bn1.running_mean: copying a param with shape torch.Size([6]) from checkpoint, the shape in current model is torch.Size([512]).\n\tsize mismatch for bn1.running_var: copying a param with shape torch.Size([6]) from checkpoint, the shape in current model is torch.Size([512]).\n\tsize mismatch for fc1.weight: copying a param with shape torch.Size([120, 400]) from checkpoint, the shape in current model is torch.Size([10, 512]).\n\tsize mismatch for fc1.bias: copying a param with shape torch.Size([120]) from checkpoint, the shape in current model is torch.Size([10])."
     ]
    },
    {
     "data": {
      "image/png": "[encoded data removed]",
      "text/plain": [
       "<Figure size 640x480 with 1 Axes>"
      ]
     },
     "metadata": {},
     "output_type": "display_data"
    },
    {
     "data": {
      "image/png": "[encoded data removed]",
      "text/plain": [
       "<Figure size 640x480 with 1 Axes>"
      ]
     },
     "metadata": {},
     "output_type": "display_data"
    }
   ],
   "source": [
    "#Run the training and measure the time for each layer\n",
    "for model, learner in learners['RMSProp'].items():\n",
    "  lr=learner.lr_find()\n",
    "  start = time.perf_counter()\n",
    "  learner.fit_one_cycle(epochs, lr)\n",
    "  end = time.perf_counter()\n",
    "  time_gd['RMSProp'][model] = end-start\n"
   ]
  },
  {
   "cell_type": "code",
   "execution_count": null,
   "metadata": {
    "colab": {
     "base_uri": "https://localhost:8080/"
    },
    "execution": {
     "iopub.status.busy": "2024-09-19T14:02:54.465749Z",
     "iopub.status.idle": "2024-09-19T14:02:54.466176Z",
     "shell.execute_reply": "2024-09-19T14:02:54.466021Z",
     "shell.execute_reply.started": "2024-09-19T14:02:54.465996Z"
    },
    "id": "FHfcq1cJChpy",
    "outputId": "bf27050d-ce85-472f-e959-268b0750bc6f"
   },
   "outputs": [],
   "source": [
    "#Plot the grafic for all layers combined\n",
    "utilsTFG.plot_learners_training(learners['RMSProp'].values(), title=f'{plot_dataset} WITH RMSProp OPTIMIZER', names=models, metric=metric)"
   ]
  },
  {
   "cell_type": "markdown",
   "metadata": {
    "id": "AXiJLlKn53-5"
   },
   "source": [
    "### Adam"
   ]
  },
  {
   "cell_type": "code",
   "execution_count": null,
   "metadata": {
    "colab": {
     "base_uri": "https://localhost:8080/"
    },
    "execution": {
     "iopub.status.busy": "2024-09-19T14:02:54.468334Z",
     "iopub.status.idle": "2024-09-19T14:02:54.468798Z",
     "shell.execute_reply": "2024-09-19T14:02:54.468601Z",
     "shell.execute_reply.started": "2024-09-19T14:02:54.468584Z"
    },
    "id": "jyyhphXSCpbc",
    "outputId": "a73ec2ba-9942-4f5b-ced2-1545668bb4d8"
   },
   "outputs": [],
   "source": [
    "#Run the training and measure the time for each layer\n",
    "for model, learner in learners['ADAM'].items():\n",
    "  try:\n",
    "    lr=learner.lr_find()\n",
    "  except:\n",
    "    lr=0.01\n",
    "  start = time.perf_counter()\n",
    "  learner.fit_one_cycle(epochs, lr)\n",
    "  end = time.perf_counter()\n",
    "  time_gd['ADAM'][model] = end-start\n"
   ]
  },
  {
   "cell_type": "code",
   "execution_count": null,
   "metadata": {
    "colab": {
     "base_uri": "https://localhost:8080/"
    },
    "execution": {
     "iopub.status.busy": "2024-09-19T14:02:54.470616Z",
     "iopub.status.idle": "2024-09-19T14:02:54.471054Z",
     "shell.execute_reply": "2024-09-19T14:02:54.470856Z",
     "shell.execute_reply.started": "2024-09-19T14:02:54.470833Z"
    },
    "id": "pPYFbofVCrFI",
    "outputId": "cba2bb53-611b-41e0-89c5-d6636687a47b"
   },
   "outputs": [],
   "source": [
    "#Plot the grafic for all layers combined\n",
    "utilsTFG.plot_learners_training(learners['ADAM'].values(), title=f'{plot_dataset} WITH ADAM OPTIMIZER', lim=2, names=models, metric=metric)"
   ]
  },
  {
   "cell_type": "markdown",
   "metadata": {
    "id": "rDJ8eghf-Z7b"
   },
   "source": [
    "### Save or Load models"
   ]
  },
  {
   "cell_type": "code",
   "execution_count": null,
   "metadata": {
    "execution": {
     "iopub.status.busy": "2024-09-19T14:02:54.472697Z",
     "iopub.status.idle": "2024-09-19T14:02:54.473109Z",
     "shell.execute_reply": "2024-09-19T14:02:54.472944Z",
     "shell.execute_reply.started": "2024-09-19T14:02:54.472927Z"
    },
    "id": "-fBPMqJnioAO"
   },
   "outputs": [],
   "source": [
    "#Save learner with their losses and metrics\n",
    "for optim in optims:\n",
    "  for model in models:\n",
    "    file_path = f'/notebooks/saved_models/learner_{dataset}_{model}_{optim}.pkl'\n",
    "    with open(file_path, 'wb') as f:\n",
    "        pickle.dump({'learner': learners[optim][model], 'recorder_values': learners[optim][model].recorder.values}, f)\n"
   ]
  },
  {
   "cell_type": "code",
   "execution_count": null,
   "metadata": {
    "colab": {
     "base_uri": "https://localhost:8080/"
    },
    "execution": {
     "iopub.status.busy": "2024-09-19T14:02:54.474709Z",
     "iopub.status.idle": "2024-09-19T14:02:54.475049Z",
     "shell.execute_reply": "2024-09-19T14:02:54.474918Z",
     "shell.execute_reply.started": "2024-09-19T14:02:54.474902Z"
    },
    "id": "KLtzsDrDiwg6",
    "outputId": "0846f932-61a1-4ec9-d053-b95db9289b55"
   },
   "outputs": [],
   "source": [
    "#Load learner with their losses and metrics\n",
    "for optim in optims:\n",
    "  for models in models:\n",
    "    file_path = f'/notebooks/saved_models/learner_{dataset}_{model}_{optim}.pkl'\n",
    "    with open(file_path, 'rb') as f:\n",
    "        data = pickle.load(f)\n",
    "    learners[optim][model], learners[optim][model].recorder.values = data['learner'], data['recorder_values']"
   ]
  },
  {
   "cell_type": "markdown",
   "metadata": {
    "id": "lSZOLyrzCx-H"
   },
   "source": [
    "### Comparative per models"
   ]
  },
  {
   "cell_type": "code",
   "execution_count": null,
   "metadata": {
    "colab": {
     "base_uri": "https://localhost:8080/"
    },
    "execution": {
     "iopub.status.busy": "2024-09-19T14:02:54.476981Z",
     "iopub.status.idle": "2024-09-19T14:02:54.477495Z",
     "shell.execute_reply": "2024-09-19T14:02:54.477280Z",
     "shell.execute_reply.started": "2024-09-19T14:02:54.477254Z"
    },
    "id": "Dm1S4bJKC1l4",
    "outputId": "cfaff97d-24c8-413f-8a16-ca6c0ccc2181"
   },
   "outputs": [],
   "source": [
    "#Compare the three optimizers for each layer\n",
    "\n",
    "learners_lenet =[learners['NAG']['LeNet5'], learners['RMSProp']['LeNet5'], learners['ADAM']['LeNet5']]\n",
    "learners_resnet = [learners['NAG']['ResNet15'], learners['RMSProp']['ResNet15'], learners['ADAM']['ResNet15']]\n",
    "learners_resnet57 = [learners['NAG']['ResNet57'], learners['RMSProp']['ResNet57'], learners['ADAM']['ResNet57']]\n",
    "\n",
    "names=['NAG', 'RMSProp', 'ADAM']\n",
    "utilsTFG.plot_learners_training(learners_lenet, title=f'{plot_dataset} WITH LeNet5', names=names, metric=metric)\n",
    "utilsTFG.plot_learners_training(learners_resnet, title=f'{plot_dataset} WITH ResNet15', names=names, metric=metric)\n",
    "utilsTFG.plot_learners_training(learners_resnet57, title=f'{plot_dataset} WITH ResNet57', names=names, metric=metric)"
   ]
  },
  {
   "cell_type": "markdown",
   "metadata": {
    "id": "nW6XoO5AHeNx"
   },
   "source": [
    "### Generalization"
   ]
  },
  {
   "cell_type": "code",
   "execution_count": null,
   "metadata": {
    "colab": {
     "base_uri": "https://localhost:8080/"
    },
    "execution": {
     "iopub.status.busy": "2024-09-19T14:02:54.479711Z",
     "iopub.status.idle": "2024-09-19T14:02:54.480299Z",
     "shell.execute_reply": "2024-09-19T14:02:54.480011Z",
     "shell.execute_reply.started": "2024-09-19T14:02:54.479985Z"
    },
    "id": "hyFE2uCjOL21",
    "outputId": "9662ee9e-c993-420b-fcad-7362e02280e4"
   },
   "outputs": [],
   "source": [
    "models =['LeNet5', 'ResNet15'] #Sometimes it overrides the array\n",
    "#Run the model in the test set\n",
    "for optim in optims:\n",
    "  for model in models:\n",
    "    #Run the model with optimizer optim and n_layers layer the test set in evaluation mode\n",
    "    learners[optim][model].model.eval()\n",
    "    learners[optim][model].eval()\n",
    "    preds, targs = learners[optim][model].get_preds(dl=test_dl)\n",
    "    targs = targs.long().squeeze()\n",
    "\n",
    "    # Calculate bal_accuracy\n",
    "    accuracy = utilsTFG.balanced_accuracy_func(preds, targs)\n",
    "\n",
    "    #Calculate loss\n",
    "    loss = utilsTFG.err_param_w_model(learners[optim][model].model, test_dl, mode = 'test')\n",
    "    #loss = CrossEntropyLossFlat()(preds, targs)\n",
    "\n",
    "\n",
    "    print(f\"Optimizer: {optim}, Model: {model}, Loss: {loss}, Accuracy: {accuracy}\")"
   ]
  },
  {
   "cell_type": "markdown",
   "metadata": {
    "id": "8uqQJyG75Sgy"
   },
   "source": [
    "## Metaheuristics"
   ]
  },
  {
   "cell_type": "code",
   "execution_count": null,
   "metadata": {
    "execution": {
     "iopub.status.busy": "2024-09-19T14:02:54.482270Z",
     "iopub.status.idle": "2024-09-19T14:02:54.482636Z",
     "shell.execute_reply": "2024-09-19T14:02:54.482492Z",
     "shell.execute_reply.started": "2024-09-19T14:02:54.482475Z"
    },
    "id": "jJu55Krnr-77"
   },
   "outputs": [],
   "source": [
    "#Initialise dictionaries\n",
    "pop_size=10\n",
    "population = {}\n",
    "fitness = {}\n",
    "mh_learners = {}\n",
    "results = {}\n",
    "fitness_valid = {}\n",
    "best = {}\n",
    "time_mh = {}\n",
    "\n",
    "#Initialise the population to have the same values for all the MH\n",
    "for model,m in zip(models,mod):\n",
    "  population[model] = []\n",
    "  fitness[model] = []\n",
    "  mh_learners[model] = Learner(dls, model=copy.deepcopy(m), loss_func=CrossEntropyLossFlat(),  cbs=[SaveModelCallback()])\n",
    "  mh_learners[model].to(device)\n",
    "  mh_learners[model].model.to(device)\n",
    "  for _ in range(pop_size):\n",
    "    model_copy = copy.deepcopy(mh_learners[model].model)\n",
    "\n",
    "    # Reset the weights of the model copy\n",
    "    model_copy.apply(utilsTFG.init_weights_glorot)\n",
    "\n",
    "    # Add the reinitialized model to the population list\n",
    "    population[model].append(utilsTFG.get_params_from_model(model_copy))\n",
    "\n",
    "    fitness[model].append(utilsTFG.err_param_w_model(model_copy, dls))\n",
    "\n",
    "#More initialisation\n",
    "for alg in algs:\n",
    "  results[alg] = {}\n",
    "  fitness_valid[alg] = {}\n",
    "  best[alg] = {}\n",
    "  time_mh[alg] = {}\n",
    "\n",
    "max_evals=4200\n",
    "max_evals_shade=200\n",
    "max_ls=10\n"
   ]
  },
  {
   "cell_type": "markdown",
   "metadata": {
    "id": "II8zvBWa5rRq"
   },
   "source": [
    "### Genetic Algorithms"
   ]
  },
  {
   "cell_type": "code",
   "execution_count": null,
   "metadata": {
    "collapsed": true,
    "id": "ROV0Y5Drp8e0",
    "jupyter": {
     "outputs_hidden": true
    }
   },
   "outputs": [],
   "source": [
    "#Genetic Algorithm working as supposed to (terrible performance)\n",
    "#results['GA'] = {}\n",
    "#for layer in n_layers:\n",
    "#  start = time.perf_counter()\n",
    "#  results['GA'][layer] = utilsTFG.gen_alg(pop_size, copy.deepcopy(population[layer]), fitness[layer], dls, 4000, mh_learners[layer])\n",
    "#  end = time.perf_counter()\n",
    "#  time_mh['GA'][layer] = end-start"
   ]
  },
  {
   "cell_type": "markdown",
   "metadata": {
    "id": "UpJIxWTta8ZH"
   },
   "source": [
    "### SHADE"
   ]
  },
  {
   "cell_type": "code",
   "execution_count": null,
   "metadata": {
    "execution": {
     "iopub.status.busy": "2024-09-19T14:02:54.484129Z",
     "iopub.status.idle": "2024-09-19T14:02:54.484452Z",
     "shell.execute_reply": "2024-09-19T14:02:54.484327Z",
     "shell.execute_reply.started": "2024-09-19T14:02:54.484311Z"
    },
    "id": "C_-CGNmxz47L"
   },
   "outputs": [],
   "source": [
    "#Runing SHADE algorithm\n",
    "\n",
    "results['SHADE'] = {}\n",
    "for model in models:\n",
    "  start = time.perf_counter()\n",
    "  results['SHADE'][model] = utilsTFG.SHADE_ej(copy.deepcopy(population[model]), copy.deepcopy(fitness[model]), pop_size,max_evals, len(population[model][0]), dls,  model=mh_learners[model].model)\n",
    "  end = time.perf_counter()\n",
    "  time_mh['SHADE'][model] = end-start\n"
   ]
  },
  {
   "cell_type": "code",
   "execution_count": null,
   "metadata": {
    "execution": {
     "iopub.status.busy": "2024-09-19T14:02:54.485666Z",
     "iopub.status.idle": "2024-09-19T14:02:54.486001Z",
     "shell.execute_reply": "2024-09-19T14:02:54.485875Z",
     "shell.execute_reply.started": "2024-09-19T14:02:54.485860Z"
    },
    "id": "IZXpBjr8_Ebo"
   },
   "outputs": [],
   "source": [
    "#Validate the models obtained.\n",
    "fitness_valid['SHADE'] = {}\n",
    "for model in models:\n",
    "  fitness_valid['SHADE'][model] = []\n",
    "  for ind in results['SHADE'][model][5]:\n",
    "    fitness_valid['SHADE'][model].append(utilsTFG.err_param_valid(ind, mh_learners[model].model, dls))"
   ]
  },
  {
   "cell_type": "code",
   "execution_count": null,
   "metadata": {
    "colab": {
     "base_uri": "https://localhost:8080/"
    },
    "execution": {
     "iopub.status.busy": "2024-09-19T14:02:54.488017Z",
     "iopub.status.idle": "2024-09-19T14:02:54.488349Z",
     "shell.execute_reply": "2024-09-19T14:02:54.488218Z",
     "shell.execute_reply.started": "2024-09-19T14:02:54.488203Z"
    },
    "id": "ImL7pZG4BFMw",
    "outputId": "39cc9e9a-fa4e-4c73-c3be-51f37893fd46"
   },
   "outputs": [],
   "source": [
    "#compare train and valid and select the best generalizing model.\n",
    "for model in models:\n",
    "  print(f\"Training error of SHADE for {model} model: {results['SHADE'][model][6]}\")\n",
    "  print(f\"Validation error of SHADE for {model} model: {fitness_valid['SHADE'][model]}\")\n",
    "  dif = np.array(fitness_valid['SHADE'][model]) - np.array(results['SHADE'][model][6])\n",
    "  print(f\"Difference: {dif}\")\n",
    "  mejor = np.argmin(fitness_valid['SHADE'][model])\n",
    "  best['SHADE'][model] = results['SHADE'][model][5][mejor]\n",
    "  print(f\"Best generalizing model: Model {mejor+1} (1-10)\")\n",
    "\n",
    "  print(\"\\n\")"
   ]
  },
  {
   "cell_type": "code",
   "execution_count": null,
   "metadata": {
    "execution": {
     "iopub.status.busy": "2024-09-19T14:02:54.489817Z",
     "iopub.status.idle": "2024-09-19T14:02:54.490168Z",
     "shell.execute_reply": "2024-09-19T14:02:54.490017Z",
     "shell.execute_reply.started": "2024-09-19T14:02:54.490000Z"
    }
   },
   "outputs": [],
   "source": [
    "#Save the mh results\n",
    "file_path = f'/notebooks/saved_models/SHADE_dict_{dataset}.pkl'\n",
    "with open(file_path, 'wb') as f:\n",
    "    pickle.dump(results['SHADE'], f)"
   ]
  },
  {
   "cell_type": "markdown",
   "metadata": {
    "id": "asIlfuQ45x1f"
   },
   "source": [
    "### SHADE-ILS"
   ]
  },
  {
   "cell_type": "code",
   "execution_count": null,
   "metadata": {
    "execution": {
     "iopub.status.busy": "2024-09-19T14:02:54.491221Z",
     "iopub.status.idle": "2024-09-19T14:02:54.491532Z",
     "shell.execute_reply": "2024-09-19T14:02:54.491405Z",
     "shell.execute_reply.started": "2024-09-19T14:02:54.491391Z"
    },
    "id": "6jU8lb4vzy3i"
   },
   "outputs": [],
   "source": [
    "# Running SHADE-ILS algorithm\n",
    "results['SHADE-ILS'] = {}\n",
    "for model in models:\n",
    "  start = time.perf_counter()\n",
    "  results['SHADE-ILS'][model] = utilsTFG.SHADE_ILS(copy.deepcopy(population[model]), copy.deepcopy(fitness[model]), max_evals, max_evals_shade, dls, mh_learners[model], mh_learners[model].model, max_ls=max_ls)\n",
    "  end = time.perf_counter()\n",
    "  time_mh['SHADE-ILS'][model] = end-start\n"
   ]
  },
  {
   "cell_type": "code",
   "execution_count": null,
   "metadata": {
    "execution": {
     "iopub.status.busy": "2024-09-19T14:02:54.492882Z",
     "iopub.status.idle": "2024-09-19T14:02:54.493190Z",
     "shell.execute_reply": "2024-09-19T14:02:54.493064Z",
     "shell.execute_reply.started": "2024-09-19T14:02:54.493050Z"
    },
    "id": "U-gOpjgHDMxX"
   },
   "outputs": [],
   "source": [
    "#Validation error\n",
    "fitness_valid['SHADE-ILS'] = {}\n",
    "for model in models:\n",
    "  fitness_valid['SHADE-ILS'][model] = []\n",
    "  for ind in results['SHADE-ILS'][model][3]:\n",
    "    fitness_valid['SHADE-ILS'][model].append(utilsTFG.err_param_valid(ind, mh_learners[model].model, dls))"
   ]
  },
  {
   "cell_type": "code",
   "execution_count": null,
   "metadata": {
    "colab": {
     "base_uri": "https://localhost:8080/"
    },
    "execution": {
     "iopub.status.busy": "2024-09-19T14:02:54.494526Z",
     "iopub.status.idle": "2024-09-19T14:02:54.494837Z",
     "shell.execute_reply": "2024-09-19T14:02:54.494709Z",
     "shell.execute_reply.started": "2024-09-19T14:02:54.494694Z"
    },
    "id": "TESZRYDzD2LM",
    "outputId": "01baf9f6-b093-4b8e-d545-81fcafc74f22"
   },
   "outputs": [],
   "source": [
    "#Compare train and valid\n",
    "for model in models:\n",
    "  print(f\"Training error of SHADE-ILS for {model} model: {results['SHADE-ILS'][model][2]}\")\n",
    "  print(f\"Validation error of SHADE-ILS for {model} model: {fitness_valid['SHADE-ILS'][model]}\")\n",
    "  dif = np.array(fitness_valid['SHADE-ILS'][model]) - np.array(results['SHADE-ILS'][model][2])\n",
    "  print(f\"Difference: {dif}\")\n",
    "  mejor = np.argmin(fitness_valid['SHADE-ILS'][model])\n",
    "  best['SHADE-ILS'][model] = results['SHADE-ILS'][model][3][mejor]\n",
    "  print(f\"Best generalizing model: Model {mejor+1} (1-10)\")\n",
    "  print(\"\\n\")"
   ]
  },
  {
   "cell_type": "code",
   "execution_count": null,
   "metadata": {
    "execution": {
     "iopub.status.busy": "2024-09-19T14:02:54.496520Z",
     "iopub.status.idle": "2024-09-19T14:02:54.497017Z",
     "shell.execute_reply": "2024-09-19T14:02:54.496812Z",
     "shell.execute_reply.started": "2024-09-19T14:02:54.496787Z"
    }
   },
   "outputs": [],
   "source": [
    "#Save the mh results\n",
    "file_path = f'/notebooks/saved_models/SHADE_ILS_dict_{dataset}.pkl'\n",
    "with open(file_path, 'wb') as f:\n",
    "    pickle.dump(results['SHADE-ILS'], f)"
   ]
  },
  {
   "cell_type": "markdown",
   "metadata": {
    "id": "5OauiNqFE04d"
   },
   "source": [
    "### SHADE-GD"
   ]
  },
  {
   "cell_type": "code",
   "execution_count": null,
   "metadata": {
    "execution": {
     "iopub.status.busy": "2024-09-19T14:02:54.500097Z",
     "iopub.status.idle": "2024-09-19T14:02:54.500616Z",
     "shell.execute_reply": "2024-09-19T14:02:54.500401Z",
     "shell.execute_reply.started": "2024-09-19T14:02:54.500374Z"
    },
    "id": "WLRnFTwIE3xf"
   },
   "outputs": [],
   "source": [
    "# Running SHADE algorithm with GD\n",
    "results['SHADE-GD'] = {}\n",
    "for model in models:\n",
    "  start = time.perf_counter()\n",
    "  results['SHADE-GD'][model] = utilsTFG.SHADE_GD(copy.deepcopy(population[model]), copy.deepcopy(fitness[model]), max_evals, max_evals_shade, dls, mh_learners[model], mh_learners[model].model)\n",
    "  end = time.perf_counter()\n",
    "  time_mh['SHADE-GD'][model] = end-start\n"
   ]
  },
  {
   "cell_type": "code",
   "execution_count": null,
   "metadata": {
    "execution": {
     "iopub.status.busy": "2024-09-19T14:02:54.502825Z",
     "iopub.status.idle": "2024-09-19T14:02:54.503340Z",
     "shell.execute_reply": "2024-09-19T14:02:54.503122Z",
     "shell.execute_reply.started": "2024-09-19T14:02:54.503096Z"
    },
    "id": "IrbO5eVsFMCH"
   },
   "outputs": [],
   "source": [
    "#Validation error\n",
    "fitness_valid['SHADE-GD'] = {}\n",
    "for model in models:\n",
    "  fitness_valid['SHADE-GD'][model] = []\n",
    "  for ind in results['SHADE-GD'][model][3]:\n",
    "    fitness_valid['SHADE-GD'][model].append(utilsTFG.err_param_valid(ind, mh_learners[model].model, dls))"
   ]
  },
  {
   "cell_type": "code",
   "execution_count": null,
   "metadata": {
    "colab": {
     "base_uri": "https://localhost:8080/"
    },
    "execution": {
     "iopub.status.busy": "2024-09-19T14:02:54.507524Z",
     "iopub.status.idle": "2024-09-19T14:02:54.508575Z",
     "shell.execute_reply": "2024-09-19T14:02:54.508293Z",
     "shell.execute_reply.started": "2024-09-19T14:02:54.508253Z"
    },
    "id": "kGaDgqrtFjfr",
    "outputId": "97ae6b0f-6548-40e3-de30-307d670704f1"
   },
   "outputs": [],
   "source": [
    "#Compare train and valid\n",
    "for model in models:\n",
    "  print(f\"Training error of SHADE-GD for {model} model: {results['SHADE-GD'][model][2]}\")\n",
    "  print(f\"Validation error of SHADE-GD for {model} model: {fitness_valid['SHADE-GD'][model]}\")\n",
    "  dif = np.array(fitness_valid['SHADE-GD'][model]) - np.array(results['SHADE-GD'][model][2])\n",
    "  print(f\"Difference: {dif}\")\n",
    "  #mejor = np.argmin(dif)\n",
    "  mejor = np.argmin(fitness_valid['SHADE-GD'][model])\n",
    "  best['SHADE-GD'][model] = results['SHADE-GD'][model][3][mejor]\n",
    "  print(f\"Best generalizing model: Model {mejor+1} (1-10)\")\n",
    "  print(\"\\n\")"
   ]
  },
  {
   "cell_type": "code",
   "execution_count": null,
   "metadata": {
    "execution": {
     "iopub.status.busy": "2024-09-19T14:02:54.510155Z",
     "iopub.status.idle": "2024-09-19T14:02:54.511091Z",
     "shell.execute_reply": "2024-09-19T14:02:54.510846Z",
     "shell.execute_reply.started": "2024-09-19T14:02:54.510817Z"
    }
   },
   "outputs": [],
   "source": [
    "#Save the mh results\n",
    "file_path = f'/notebooks/saved_models/SHADE_GD_dict_{dataset}.pkl'\n",
    "with open(file_path, 'wb') as f:\n",
    "    pickle.dump(results['SHADE-GD'], f)"
   ]
  },
  {
   "cell_type": "markdown",
   "metadata": {
    "id": "yywEcrvtFcjJ"
   },
   "source": [
    "### SHADE-ILS-GD"
   ]
  },
  {
   "cell_type": "code",
   "execution_count": null,
   "metadata": {
    "colab": {
     "base_uri": "https://localhost:8080/"
    },
    "execution": {
     "iopub.status.busy": "2024-09-19T14:02:54.512244Z",
     "iopub.status.idle": "2024-09-19T14:02:54.512557Z",
     "shell.execute_reply": "2024-09-19T14:02:54.512437Z",
     "shell.execute_reply.started": "2024-09-19T14:02:54.512421Z"
    },
    "id": "T9TnKFrWFyyV",
    "outputId": "8db68098-b267-41d3-939c-f9d8de81ffb0"
   },
   "outputs": [],
   "source": [
    "# SHADE-ILS-GD\n",
    "results['SHADE-ILS-GD'] = {}\n",
    "for model in models:\n",
    "  start = time.perf_counter()\n",
    "  results['SHADE-ILS-GD'][model] = utilsTFG.SHADE_ILS_GD(copy.deepcopy(population[model]), copy.deepcopy(fitness[model]),  max_evals, max_evals_shade, dls, mh_learners[model], mh_learners[model].model, max_ls=max_ls)\n",
    "  end = time.perf_counter()\n",
    "  time_mh['SHADE-ILS-GD'][model] = end-start\n"
   ]
  },
  {
   "cell_type": "code",
   "execution_count": null,
   "metadata": {
    "execution": {
     "iopub.status.busy": "2024-09-19T14:02:54.514117Z",
     "iopub.status.idle": "2024-09-19T14:02:54.514423Z",
     "shell.execute_reply": "2024-09-19T14:02:54.514296Z",
     "shell.execute_reply.started": "2024-09-19T14:02:54.514281Z"
    },
    "id": "yuUZ4JqVF6M6"
   },
   "outputs": [],
   "source": [
    "#Validation error\n",
    "fitness_valid['SHADE-ILS-GD'] = {}\n",
    "for model in models:\n",
    "  fitness_valid['SHADE-ILS-GD'][model] = []\n",
    "  for ind in results['SHADE-ILS-GD'][model][3]:\n",
    "    fitness_valid['SHADE-ILS-GD'][model].append(utilsTFG.err_param_valid(ind, mh_learners[model].model, dls))"
   ]
  },
  {
   "cell_type": "code",
   "execution_count": null,
   "metadata": {
    "colab": {
     "base_uri": "https://localhost:8080/"
    },
    "execution": {
     "iopub.status.busy": "2024-09-19T14:02:54.516089Z",
     "iopub.status.idle": "2024-09-19T14:02:54.516411Z",
     "shell.execute_reply": "2024-09-19T14:02:54.516281Z",
     "shell.execute_reply.started": "2024-09-19T14:02:54.516265Z"
    },
    "id": "qlR3uvC2FQT7",
    "outputId": "608ec824-0bed-4c96-c384-587d1c5c9135"
   },
   "outputs": [],
   "source": [
    "#Compare train and valid\n",
    "for model in models:\n",
    "  print(f\"Training error of SHADE-ILS-GD for {model} model: {results['SHADE-ILS-GD'][model][2]}\")\n",
    "  print(f\"Validation error of SHADE-ILS-GD for {model} model: {fitness_valid['SHADE-ILS-GD'][model]}\")\n",
    "  dif = np.array(fitness_valid['SHADE-ILS-GD'][model]) - np.array(results['SHADE-ILS-GD'][model][2])\n",
    "  print(f\"Difference: {dif}\")\n",
    "  mejor = np.argmin(fitness_valid['SHADE-ILS-GD'][model])\n",
    "  best['SHADE-ILS-GD'][model] = results['SHADE-ILS-GD'][model][3][mejor]\n",
    "  print(f\"Best generalizing model: Model {mejor+1} (1-10)\")\n",
    "  print(\"\\n\")"
   ]
  },
  {
   "cell_type": "code",
   "execution_count": null,
   "metadata": {
    "execution": {
     "iopub.status.busy": "2024-09-19T14:02:54.517897Z",
     "iopub.status.idle": "2024-09-19T14:02:54.518240Z",
     "shell.execute_reply": "2024-09-19T14:02:54.518092Z",
     "shell.execute_reply.started": "2024-09-19T14:02:54.518077Z"
    }
   },
   "outputs": [],
   "source": [
    "#Save the mh results\n",
    "file_path = f'/notebooks/saved_models/SHADE_ILS_GD_dict_{dataset}.pkl'\n",
    "with open(file_path, 'wb') as f:\n",
    "    pickle.dump(results['SHADE-ILS-GD'], f)"
   ]
  },
  {
   "cell_type": "markdown",
   "metadata": {
    "id": "TMiYkaislLMQ"
   },
   "source": [
    "### Save or load"
   ]
  },
  {
   "cell_type": "code",
   "execution_count": null,
   "metadata": {
    "execution": {
     "iopub.status.busy": "2024-09-19T14:02:54.519329Z",
     "iopub.status.idle": "2024-09-19T14:02:54.519620Z",
     "shell.execute_reply": "2024-09-19T14:02:54.519498Z",
     "shell.execute_reply.started": "2024-09-19T14:02:54.519484Z"
    },
    "id": "gA_N1kGA7Ndn"
   },
   "outputs": [],
   "source": [
    "#Save the mh results\n",
    "file_path = f'/notebooks/saved_models/mh_dict_{dataset}.pkl'\n",
    "with open(file_path, 'wb') as f:\n",
    "    pickle.dump(results, f)"
   ]
  },
  {
   "cell_type": "code",
   "execution_count": null,
   "metadata": {
    "execution": {
     "iopub.status.busy": "2024-09-19T14:02:54.521399Z",
     "iopub.status.idle": "2024-09-19T14:02:54.521727Z",
     "shell.execute_reply": "2024-09-19T14:02:54.521596Z",
     "shell.execute_reply.started": "2024-09-19T14:02:54.521580Z"
    },
    "id": "AzIkgJvH7VUX"
   },
   "outputs": [],
   "source": [
    "#Load the trained mh results\n",
    "file_path = f'/notebooks/saved_models/mh_dict_{dataset}.pkl'\n",
    "with open(file_path, 'rb') as f:\n",
    "    results = pickle.load(f)"
   ]
  },
  {
   "cell_type": "markdown",
   "metadata": {
    "id": "2gQs5Loyjstj"
   },
   "source": [
    "### Comparison between MH"
   ]
  },
  {
   "cell_type": "code",
   "execution_count": null,
   "metadata": {
    "execution": {
     "iopub.status.busy": "2024-09-19T14:02:54.523636Z",
     "iopub.status.idle": "2024-09-19T14:02:54.523959Z",
     "shell.execute_reply": "2024-09-19T14:02:54.523827Z",
     "shell.execute_reply.started": "2024-09-19T14:02:54.523812Z"
    },
    "id": "LL-t9M9UjscC"
   },
   "outputs": [],
   "source": [
    "#Saving training loss for better manipulation\n",
    "training = {}\n",
    "for mh in algs:\n",
    "  training[mh] = {}\n",
    "for model in models:\n",
    "  training['SHADE'][model] = results['SHADE'][model][6]\n",
    "  training['SHADE-ILS'][model] = results['SHADE-ILS'][model][2]\n",
    "  training['SHADE-GD'][model] = results['SHADE-GD'][model][2]\n",
    "  training['SHADE-ILS-GD'][model] = results['SHADE-ILS-GD'][model][2]"
   ]
  },
  {
   "cell_type": "code",
   "execution_count": null,
   "metadata": {
    "colab": {
     "base_uri": "https://localhost:8080/",
     "height": 17
    },
    "execution": {
     "iopub.status.busy": "2024-09-19T14:02:54.525097Z",
     "iopub.status.idle": "2024-09-19T14:02:54.525395Z",
     "shell.execute_reply": "2024-09-19T14:02:54.525272Z",
     "shell.execute_reply.started": "2024-09-19T14:02:54.525259Z"
    },
    "id": "YMC78-iKkrXw",
    "outputId": "c43af29b-abde-4009-e35e-1a2ed104dd09"
   },
   "outputs": [],
   "source": [
    "from fastai.metrics import accuracy\n",
    "#Calculate accuracy\n",
    "acc = {}\n",
    "for mh in algs:\n",
    "  acc[mh] = {}\n",
    "  for model in models:\n",
    "    acc[mh][model] = []\n",
    "    ind = 5 if mh == 'SHADE' else 3\n",
    "    for ind in results[mh][model][ind]:\n",
    "      utilsTFG.set_params_to_model(ind, mh_learners[model].model)\n",
    "      mh_learners[model].model.eval()\n",
    "      mh_learners[model].eval()\n",
    "      preds, targs = mh_learners[model].get_preds(dl=dls.valid)\n",
    "      targs = targs.long().squeeze()\n",
    "\n",
    "      # Calculate balanced_accuracy\n",
    "      acc[mh][model].append(accuracy(preds, targs))"
   ]
  },
  {
   "cell_type": "code",
   "execution_count": null,
   "metadata": {
    "colab": {
     "base_uri": "https://localhost:8080/",
     "height": 1000
    },
    "execution": {
     "iopub.status.busy": "2024-09-19T14:02:54.527528Z",
     "iopub.status.idle": "2024-09-19T14:02:54.527984Z",
     "shell.execute_reply": "2024-09-19T14:02:54.527792Z",
     "shell.execute_reply.started": "2024-09-19T14:02:54.527769Z"
    },
    "id": "oCU9LIgBn3d6",
    "outputId": "6d96c4a3-3b3c-45b0-c97c-15eb1ed1c11e"
   },
   "outputs": [],
   "source": [
    "#Comparing the different layers version of the same MH\n",
    "for alg in algs:\n",
    "  utilsTFG.plot_mh_mlp_training(training[alg], fitness_valid[alg], acc[alg], layers=models, names=models, title=f'TRAINING IN {plot_dataset} WITH {alg}')"
   ]
  },
  {
   "cell_type": "code",
   "execution_count": null,
   "metadata": {
    "colab": {
     "base_uri": "https://localhost:8080/",
     "height": 1000
    },
    "execution": {
     "iopub.status.busy": "2024-09-19T14:02:54.531018Z",
     "iopub.status.idle": "2024-09-19T14:02:54.531550Z",
     "shell.execute_reply": "2024-09-19T14:02:54.531334Z",
     "shell.execute_reply.started": "2024-09-19T14:02:54.531307Z"
    },
    "id": "mRZSN99ByO-E",
    "outputId": "04cf36de-6572-4666-a577-e75449ef0564"
   },
   "outputs": [],
   "source": [
    "#Comparing the different MH for the same layer number\n",
    "\n",
    "names= ['SHADE', 'SHADE-ILS', 'SHADE-GD', 'SHADE-ILS-GD']\n",
    "train = {}\n",
    "ac = {}\n",
    "valid = {}\n",
    "for model in models:\n",
    "  train[model] = {}\n",
    "  ac[model] = {}\n",
    "  valid[model] = {}\n",
    "  for alg in algs:\n",
    "    train[model][alg] = training[alg][model]\n",
    "    ac[model][alg] = acc[alg][model]\n",
    "    valid[model][alg] = fitness_valid[alg][model]\n",
    "  utilsTFG.plot_mh_mlp_training(train[model], valid[model], ac[model],  layers=names, names=names, title=f'TRAINING IN {plot_dataset} WITH {model}')"
   ]
  },
  {
   "cell_type": "markdown",
   "metadata": {
    "id": "NCsn1tMYzDKZ"
   },
   "source": [
    "### Generalization"
   ]
  },
  {
   "cell_type": "code",
   "execution_count": null,
   "metadata": {
    "colab": {
     "base_uri": "https://localhost:8080/"
    },
    "execution": {
     "iopub.status.busy": "2024-09-19T14:02:54.533245Z",
     "iopub.status.idle": "2024-09-19T14:02:54.533708Z",
     "shell.execute_reply": "2024-09-19T14:02:54.533515Z",
     "shell.execute_reply.started": "2024-09-19T14:02:54.533492Z"
    },
    "id": "zs9RTlG8y4FN",
    "outputId": "0234da4d-20fc-488d-eb95-76f0077d0127"
   },
   "outputs": [],
   "source": [
    "#Run the model in the test set\n",
    "for mh in algs:\n",
    "  for model in models:\n",
    "    #Run the model with optimizer optim and n_layers layer the test set in evaluation mode\n",
    "    utilsTFG.set_params_to_model(best[mh][model], mh_learners[model].model)\n",
    "    mh_learners[model].model.eval()\n",
    "    mh_learners[model].eval()\n",
    "    preds, targs = mh_learners[model].get_preds(dl=test_dl)\n",
    "    targs = targs.long().squeeze()\n",
    "\n",
    "    #Calculate accuracy\n",
    "\n",
    "    accur = utilsTFG.balanced_accuracy_func(preds, targs)\n",
    "\n",
    "\n",
    "    loss = utilsTFG.err_param_w_model(mh_learners[model].model, test_dl, mode = 'test')\n",
    "\n",
    "    print(f\"Optimizer: {mh}, Model: {model}, Loss: {loss}, Accuracy: {accur}\")"
   ]
  },
  {
   "cell_type": "markdown",
   "metadata": {
    "id": "fLTkRRlSs22N"
   },
   "source": [
    "## Time comparison"
   ]
  },
  {
   "cell_type": "code",
   "execution_count": null,
   "metadata": {
    "colab": {
     "base_uri": "https://localhost:8080/"
    },
    "execution": {
     "iopub.status.busy": "2024-09-19T14:02:54.535695Z",
     "iopub.status.idle": "2024-09-19T14:02:54.536079Z",
     "shell.execute_reply": "2024-09-19T14:02:54.535925Z",
     "shell.execute_reply.started": "2024-09-19T14:02:54.535906Z"
    },
    "id": "-V5rkuQrs4xl",
    "outputId": "675a6d92-cff1-44fe-b5f1-d574da5db492"
   },
   "outputs": [],
   "source": [
    "#Compare times for each algorithm and layer\n",
    "\n",
    "#GD\n",
    "for alg, time_model in time_mh.items():\n",
    "  for model, time in time_model.items():\n",
    "    print(f'Time consumed by {alg} training with {model}: {time:.04f} seconds')\n",
    "\n",
    "#MH\n",
    "for optims, time_model in time_gd.items():\n",
    "  for model, time in time_model.items():\n",
    "    print(f'Time consumed by {optims} training with {model}: {time:.04f} seconds')\n",
    "\n"
   ]
  }
 ],
 "metadata": {
  "colab": {
   "collapsed_sections": [
    "P9XuoiwK5lnb",
    "AXiJLlKn53-5",
    "lSZOLyrzCx-H",
    "nW6XoO5AHeNx",
    "NCsn1tMYzDKZ",
    "fLTkRRlSs22N"
   ],
   "provenance": [],
   "toc_visible": true
  },
  "kernelspec": {
   "display_name": "Python 3 (ipykernel)",
   "language": "python",
   "name": "python3"
  },
  "language_info": {
   "codemirror_mode": {
    "name": "ipython",
    "version": 3
   },
   "file_extension": ".py",
   "mimetype": "text/x-python",
   "name": "python",
   "nbconvert_exporter": "python",
   "pygments_lexer": "ipython3",
   "version": "3.11.7"
  }
 },
 "nbformat": 4,
 "nbformat_minor": 4
}
